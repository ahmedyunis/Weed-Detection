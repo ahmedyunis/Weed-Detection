{
  "nbformat": 4,
  "nbformat_minor": 0,
  "metadata": {
    "colab": {
      "name": "weedfinal.ipynb",
      "provenance": []
    },
    "kernelspec": {
      "name": "python3",
      "display_name": "Python 3"
    }
  },
  "cells": [
    {
      "cell_type": "code",
      "metadata": {
        "id": "UOILkStqdxfQ",
        "colab_type": "code",
        "colab": {}
      },
      "source": [
        "import glob\n",
        "import yaml\n",
        "import cv2\n",
        "import numpy as np\n",
        "import os\n",
        "from random import shuffle\n",
        "import tensorflow as tf\n",
        "import matplotlib.pyplot as plt\n",
        "from PIL import Image as im \n",
        "import pandas as pd\n",
        "import seaborn as sns\n",
        "from skimage.transform import rescale, resize\n",
        "from skimage.feature import hog\n",
        "from skimage import data, exposure\n",
        "from skimage.io import imread, imshow\n",
        "from sklearn.metrics import mean_squared_error\n",
        "from sklearn import svm\n",
        "from sklearn.metrics import classification_report,accuracy_score\n",
        "import itertools "
      ],
      "execution_count": 0,
      "outputs": []
    },
    {
      "cell_type": "code",
      "metadata": {
        "id": "W4ZkbQTrhJp9",
        "colab_type": "code",
        "colab": {}
      },
      "source": [
        "def image_path(img_type, img_number):\n",
        "    #image_type: 'images' #original image, 'annotations' #crop-weed label, 'mask' #vegetation segmentation\n",
        "    #image_number: the number on the image name\n",
        "    image_name = img_type[:-1]\n",
        "    if img_number < 10:\n",
        "        path = '/content/'+img_type+'/00'+str(img_number)+'_'+str(image_name)+'.png'\n",
        "    else:\n",
        "        path = '/content/'+img_type+'/0'+str(img_number)+'_'+str(image_name)+'.png'\n",
        "    return path\n",
        "\n",
        "# generating labels for each image\n",
        "def label_generator(number):\n",
        "    annotation = cv2.imread(image_path('annotations', number))\n",
        "    height = annotation.shape[0]\n",
        "    width = annotation.shape[1]\n",
        "   # channel = annotation.shape[2]\n",
        "    labels = np.zeros((height, width, 3))\n",
        "    for i in range(height):\n",
        "        for j in range(width):\n",
        "            if np.all(annotation[i,j,:] == np.array([0,255,0])):\n",
        "                labels[i,j,0] = 1\n",
        "            elif np.all(annotation[i,j,:] == np.array([0,0,255])):\n",
        "                labels[i,j,1] = 1\n",
        "            elif np.all(annotation[i,j,:] == np.array([0,0,0])):\n",
        "                labels[i,j,2] = 1\n",
        "    return labels"
      ],
      "execution_count": 0,
      "outputs": []
    },
    {
      "cell_type": "code",
      "metadata": {
        "id": "28BisGBSkJpg",
        "colab_type": "code",
        "outputId": "a20c2269-d0c7-4250-f711-453666495daa",
        "colab": {
          "base_uri": "https://localhost:8080/",
          "height": 231
        }
      },
      "source": [
        "# Load two images\n",
        "img1 = cv2.imread(image_path('images',1))\n",
        "img2 = cv2.imread(image_path('masks',1))\n",
        "\n",
        "# I want to put logo on top-left corner, So I create a ROI\n",
        "rows,cols,channels = img2.shape\n",
        "roi = img1[0:rows, 0:cols ]\n",
        "\n",
        "# Now create a mask of logo and create its inverse mask also\n",
        "img2gray = cv2.cvtColor(img2,cv2.COLOR_BGR2GRAY)\n",
        "ret, mask = cv2.threshold(img2gray, 10, 255, cv2.THRESH_BINARY)\n",
        "mask_inv = cv2.bitwise_not(mask)\n",
        "\n",
        "# Now black-out the area of logo in ROI\n",
        "img1_bg = cv2.bitwise_and(roi,roi,mask = mask_inv)\n",
        "\n",
        "# Take only region of logo from logo image.\n",
        "img2_fg = cv2.bitwise_and(img2,img2,mask = mask)\n",
        "\n",
        "# Put logo in ROI and modify the main image\n",
        "dst = cv2.add(img1_bg,img2_fg)\n",
        "img1[0:rows, 0:cols ] = dst\n",
        "plt.imshow(img1)"
      ],
      "execution_count": 0,
      "outputs": [
        {
          "output_type": "error",
          "ename": "TypeError",
          "evalue": "ignored",
          "traceback": [
            "\u001b[0;31m---------------------------------------------------------------------------\u001b[0m",
            "\u001b[0;31mTypeError\u001b[0m                                 Traceback (most recent call last)",
            "\u001b[0;32m<ipython-input-5-84bc86f868d1>\u001b[0m in \u001b[0;36m<module>\u001b[0;34m()\u001b[0m\n\u001b[1;32m      4\u001b[0m \u001b[0;31m# I want to put logo on top-left corner, So I create a ROI\u001b[0m\u001b[0;34m\u001b[0m\u001b[0;34m\u001b[0m\u001b[0;34m\u001b[0m\u001b[0m\n\u001b[1;32m      5\u001b[0m \u001b[0mrows\u001b[0m\u001b[0;34m,\u001b[0m\u001b[0mcols\u001b[0m\u001b[0;34m,\u001b[0m\u001b[0mchannels\u001b[0m \u001b[0;34m=\u001b[0m \u001b[0mimg2\u001b[0m\u001b[0;34m.\u001b[0m\u001b[0mshape\u001b[0m\u001b[0;34m\u001b[0m\u001b[0;34m\u001b[0m\u001b[0m\n\u001b[0;32m----> 6\u001b[0;31m \u001b[0mroi\u001b[0m \u001b[0;34m=\u001b[0m \u001b[0mimg1\u001b[0m\u001b[0;34m[\u001b[0m\u001b[0;36m0\u001b[0m\u001b[0;34m:\u001b[0m\u001b[0mrows\u001b[0m\u001b[0;34m,\u001b[0m \u001b[0;36m0\u001b[0m\u001b[0;34m:\u001b[0m\u001b[0mcols\u001b[0m \u001b[0;34m]\u001b[0m\u001b[0;34m\u001b[0m\u001b[0;34m\u001b[0m\u001b[0m\n\u001b[0m\u001b[1;32m      7\u001b[0m \u001b[0;34m\u001b[0m\u001b[0m\n\u001b[1;32m      8\u001b[0m \u001b[0;31m# Now create a mask of logo and create its inverse mask also\u001b[0m\u001b[0;34m\u001b[0m\u001b[0;34m\u001b[0m\u001b[0;34m\u001b[0m\u001b[0m\n",
            "\u001b[0;31mTypeError\u001b[0m: 'NoneType' object is not subscriptable"
          ]
        }
      ]
    },
    {
      "cell_type": "code",
      "metadata": {
        "id": "PWnv9vZokb2F",
        "colab_type": "code",
        "outputId": "89cc29d1-e039-496a-d8e8-49689111e1fb",
        "colab": {
          "base_uri": "https://localhost:8080/",
          "height": 125
        }
      },
      "source": [
        "label = label_generator(1)\n",
        "plt.figure()\n",
        "\n",
        "#plt.imshow(label)\n",
        "for i in range(3):\n",
        "    plt.subplot(1,3,i+1)\n",
        "    plt.imshow(label[:,:,i])"
      ],
      "execution_count": 0,
      "outputs": [
        {
          "output_type": "display_data",
          "data": {
            "image/png": "[encoded data removed]",
            "text/plain": [
              "<Figure size 432x288 with 3 Axes>"
            ]
          },
          "metadata": {
            "tags": []
          }
        }
      ]
    },
    {
      "cell_type": "code",
      "metadata": {
        "id": "q55XVomPlwWd",
        "colab_type": "code",
        "colab": {}
      },
      "source": [
        "levels=[]\n",
        "train_labels=[2, 5, 6, 7, 8, 11, 12, 14, 16, 17, 18, 19, 20, 23, 24, 25, 27, 28, 31, 33, 34, 36, 37, 38, 40, 41, 42, 43, 45, 46, 49, 50, 51, 52, 53, 55, 56, 57, 58, 59]\n",
        "for i in train_labels:\n",
        "  label=label_generator(i)\n",
        "  level=np.sum(label[:,:,1])/(np.sum(label[:,:,1])+np.sum(label[:,:,0]))\n",
        "  levels.append(level)\n"
      ],
      "execution_count": 0,
      "outputs": []
    },
    {
      "cell_type": "code",
      "metadata": {
        "id": "q4r7lgzElcpc",
        "colab_type": "code",
        "colab": {}
      },
      "source": [
        "for i in range(len(levels)):\n",
        "  if levels[i] < 0.4 :\n",
        "    levels[i]=1\n",
        "  elif (levels[i]>=0.4)&(levels[i]<0.7):\n",
        "    levels[i]=2\n",
        "  elif (levels[i]>=0.7)&(levels[i]<0.85):\n",
        "     levels[i]=3\n",
        "  else:\n",
        "     levels[i]=4 "
      ],
      "execution_count": 0,
      "outputs": []
    },
    {
      "cell_type": "code",
      "metadata": {
        "id": "KmNxkALw08fK",
        "colab_type": "code",
        "outputId": "f38115fa-2b92-4c04-8108-8ec066b8fa09",
        "colab": {
          "base_uri": "https://localhost:8080/",
          "height": 303
        }
      },
      "source": [
        "img = imread(image_path('masks',1))\n",
        "mm = resize(img,(512,265))\n",
        "fd, hog_image = hog(mm, orientations=9, pixels_per_cell=(8, 8), cells_per_block=(2, 2), visualize=True, multichannel=None)\n",
        "plt.subplot(1,2,1)\n",
        "plt.imshow(mm)\n",
        "plt.subplot(1,2,2)\n",
        "plt.imshow(hog_image)\n",
        "print(fd.shape)\n",
        "td = fd.ravel()  \n",
        "print(td.shape)\n"
      ],
      "execution_count": 0,
      "outputs": [
        {
          "output_type": "stream",
          "text": [
            "(72576,)\n",
            "(72576,)\n"
          ],
          "name": "stdout"
        },
        {
          "output_type": "display_data",
          "data": {
            "image/png": "[encoded data removed]",
            "text/plain": [
              "<Figure size 432x288 with 2 Axes>"
            ]
          },
          "metadata": {
            "tags": []
          }
        }
      ]
    },
    {
      "cell_type": "code",
      "metadata": {
        "id": "7L0pbZvmuQht",
        "colab_type": "code",
        "outputId": "d4f4e434-b620-4b4d-c00e-fbb25b1e071d",
        "colab": {
          "base_uri": "https://localhost:8080/",
          "height": 302
        }
      },
      "source": [
        "img = imread(image_path('masks',1))\n",
        "mm = resize(img[640:720,640:720],(64,32))\n",
        "fd, hog_image = hog(mm, orientations=9, pixels_per_cell=(8, 8), cells_per_block=(2, 2), visualize=True, multichannel=None)\n",
        "plt.subplot(1,2,1)\n",
        "plt.imshow(img[640:720,640:720])\n",
        "plt.subplot(1,2,2)\n",
        "plt.imshow(hog_image)\n",
        "print(fd.shape)\n",
        "td = fd.ravel()  \n",
        "print(td.shape)"
      ],
      "execution_count": 0,
      "outputs": [
        {
          "output_type": "stream",
          "text": [
            "(756,)\n",
            "(756,)\n"
          ],
          "name": "stdout"
        },
        {
          "output_type": "display_data",
          "data": {
            "image/png": "[encoded data removed]",
            "text/plain": [
              "<Figure size 432x288 with 2 Axes>"
            ]
          },
          "metadata": {
            "tags": []
          }
        }
      ]
    },
    {
      "cell_type": "code",
      "metadata": {
        "id": "qzCY31yRGBSg",
        "colab_type": "code",
        "outputId": "f654a2b8-ba28-4a55-9c65-6dfaa55fd5ce",
        "colab": {
          "base_uri": "https://localhost:8080/",
          "height": 34
        }
      },
      "source": [
        "img = imread(image_path('masks',1))\n",
        "width, height = img.shape[:2]\n",
        "print(width, height )"
      ],
      "execution_count": 0,
      "outputs": [
        {
          "output_type": "stream",
          "text": [
            "966 1296\n"
          ],
          "name": "stdout"
        }
      ]
    },
    {
      "cell_type": "code",
      "metadata": {
        "id": "4O_OV7V_ntH1",
        "colab_type": "code",
        "outputId": "761d9328-7202-4f20-a1df-14d8980036a5",
        "colab": {
          "base_uri": "https://localhost:8080/",
          "height": 34
        }
      },
      "source": [
        "im_feat = []\n",
        "img = imread(image_path('masks',1))\n",
        "width, height = img.shape\n",
        "print(width, height )\n",
        "for w in range(0, width, 80):\n",
        "  for h in range(0, height, 80):\n",
        "      image_resized = resize(img[w:w+80,h:h+80],(80,40))\n",
        "      descriptor, hog_image = hog(image_resized, orientations=9, pixels_per_cell=(8, 8), \n",
        "                    cells_per_block=(2, 2), block_norm= 'L2', visualize=True, multichannel=None)\n",
        "      im_feat.append(descriptor)"
      ],
      "execution_count": 0,
      "outputs": [
        {
          "output_type": "stream",
          "text": [
            "966 1296\n"
          ],
          "name": "stdout"
        }
      ]
    },
    {
      "cell_type": "code",
      "metadata": {
        "id": "_RZuPT5Mx3nG",
        "colab_type": "code",
        "outputId": "fb839d99-6a4d-4c82-9b00-5c61501d32b8",
        "colab": {
          "base_uri": "https://localhost:8080/",
          "height": 34
        }
      },
      "source": [
        "img_feature_train = []\n",
        "\n",
        "train_data=[2, 5, 6, 7, 8, 11, 12, 14, 16, 17, 18, 19, 20, 23, 24, 25, 27, 28, 31, 33, 34, 36, 37, 38, 40, 41, 42, 43, 45, 46, 49, 50, 51, 52, 53, 55, 56, 57, 58, 59]\n",
        "for i in train_data:\n",
        "  img_mask = imread(image_path('masks',i))\n",
        "  img_annt = imread(image_path('annotations',i))\n",
        "  features_train = []\n",
        "  for w in range(0, width, 80):\n",
        "    for h in range(0, height, 80):\n",
        "      image_resized = resize(img_mask[w:w+80,h:h+80],(40,80))\n",
        "      descriptor, hog_image = hog(image_resized, orientations=9, pixels_per_cell=(8, 8), \n",
        "                    cells_per_block=(2, 2), block_norm= 'L2', visualize=True, multichannel=None)\n",
        "      features_train.append(descriptor)\n",
        "  img_feature_train.append(features_train)\n",
        "print(\"younis & menna & Omar\")"
      ],
      "execution_count": 0,
      "outputs": [
        {
          "output_type": "stream",
          "text": [
            "younis & menna & Omar\n"
          ],
          "name": "stdout"
        }
      ]
    },
    {
      "cell_type": "code",
      "metadata": {
        "id": "sZ6ROWj36Qry",
        "colab_type": "code",
        "outputId": "cdf51bf1-eb94-41d1-9da7-0726b16d0dc9",
        "colab": {
          "base_uri": "https://localhost:8080/",
          "height": 734
        }
      },
      "source": [
        "print(img_feature_train[0])"
      ],
      "execution_count": 0,
      "outputs": [
        {
          "output_type": "stream",
          "text": [
            "[array([0., 0., 0., ..., 0., 0., 0.]), array([0., 0., 0., ..., 0., 0., 0.]), array([0., 0., 0., ..., 0., 0., 0.]), array([0., 0., 0., ..., 0., 0., 0.]), array([0., 0., 0., ..., 0., 0., 0.]), array([0., 0., 0., ..., 0., 0., 0.]), array([0., 0., 0., ..., 0., 0., 0.]), array([0.        , 0.        , 0.        , ..., 0.05995835, 0.        ,\n",
            "       0.        ]), array([0.35800235, 0.06603463, 0.24361082, ..., 0.        , 0.        ,\n",
            "       0.        ]), array([0., 0., 0., ..., 0., 0., 0.]), array([0.10155805, 0.09292553, 0.4833071 , ..., 0.        , 0.        ,\n",
            "       0.        ]), array([0., 0., 0., ..., 0., 0., 0.]), array([0., 0., 0., ..., 0., 0., 0.]), array([0., 0., 0., ..., 0., 0., 0.]), array([0., 0., 0., ..., 0., 0., 0.]), array([0., 0., 0., ..., 0., 0., 0.]), array([0., 0., 0., ..., 0., 0., 0.]), array([0., 0., 0., ..., 0., 0., 0.]), array([0., 0., 0., ..., 0., 0., 0.]), array([0., 0., 0., ..., 0., 0., 0.]), array([0., 0., 0., ..., 0., 0., 0.]), array([0., 0., 0., ..., 0., 0., 0.]), array([0., 0., 0., ..., 0., 0., 0.]), array([0.        , 0.        , 0.        , ..., 0.3046801 , 0.2477654 ,\n",
            "       0.20971164]), array([0.        , 0.        , 0.        , ..., 0.        , 0.05925237,\n",
            "       0.        ]), array([0.10256584, 0.        , 0.        , ..., 0.        , 0.        ,\n",
            "       0.        ]), array([0.11095041, 0.        , 0.147139  , ..., 0.        , 0.        ,\n",
            "       0.        ]), array([0., 0., 0., ..., 0., 0., 0.]), array([0.13576419, 0.        , 0.07465869, ..., 0.        , 0.        ,\n",
            "       0.        ]), array([0.        , 0.        , 0.19930203, ..., 0.        , 0.        ,\n",
            "       0.        ]), array([0., 0., 0., ..., 0., 0., 0.]), array([0., 0., 0., ..., 0., 0., 0.]), array([0., 0., 0., ..., 0., 0., 0.]), array([0., 0., 0., ..., 0., 0., 0.]), array([0.        , 0.        , 0.        , ..., 0.34858475, 0.05105179,\n",
            "       0.        ]), array([0., 0., 0., ..., 0., 0., 0.]), array([0., 0., 0., ..., 0., 0., 0.]), array([0., 0., 0., ..., 0., 0., 0.]), array([0., 0., 0., ..., 0., 0., 0.]), array([0.        , 0.        , 0.        , ..., 0.07891803, 0.        ,\n",
            "       0.        ]), array([0.        , 0.        , 0.        , ..., 0.23257897, 0.18187071,\n",
            "       0.03115785]), array([0.15348626, 0.        , 0.        , ..., 0.        , 0.        ,\n",
            "       0.        ]), array([0.06525774, 0.        , 0.        , ..., 0.        , 0.        ,\n",
            "       0.        ]), array([0., 0., 0., ..., 0., 0., 0.]), array([0., 0., 0., ..., 0., 0., 0.]), array([0.        , 0.        , 0.        , ..., 0.16382779, 0.06747129,\n",
            "       0.03345345]), array([0.04737523, 0.        , 0.        , ..., 0.        , 0.        ,\n",
            "       0.        ]), array([0., 0., 0., ..., 0., 0., 0.]), array([0., 0., 0., ..., 0., 0., 0.]), array([0., 0., 0., ..., 0., 0., 0.]), array([0., 0., 0., ..., 0., 0., 0.]), array([0., 0., 0., ..., 0., 0., 0.]), array([0.00291028, 0.        , 0.        , ..., 0.        , 0.        ,\n",
            "       0.        ]), array([0., 0., 0., ..., 0., 0., 0.]), array([0., 0., 0., ..., 0., 0., 0.]), array([0., 0., 0., ..., 0., 0., 0.]), array([0., 0., 0., ..., 0., 0., 0.]), array([0., 0., 0., ..., 0., 0., 0.]), array([0., 0., 0., ..., 0., 0., 0.]), array([0., 0., 0., ..., 0., 0., 0.]), array([0., 0., 0., ..., 0., 0., 0.]), array([0., 0., 0., ..., 0., 0., 0.]), array([0., 0., 0., ..., 0., 0., 0.]), array([0., 0., 0., ..., 0., 0., 0.]), array([0., 0., 0., ..., 0., 0., 0.]), array([0., 0., 0., ..., 0., 0., 0.]), array([0., 0., 0., ..., 0., 0., 0.]), array([0., 0., 0., ..., 0., 0., 0.]), array([0., 0., 0., ..., 0., 0., 0.]), array([0., 0., 0., ..., 0., 0., 0.]), array([0., 0., 0., ..., 0., 0., 0.]), array([0., 0., 0., ..., 0., 0., 0.]), array([0., 0., 0., ..., 0., 0., 0.]), array([0., 0., 0., ..., 0., 0., 0.]), array([0., 0., 0., ..., 0., 0., 0.]), array([0., 0., 0., ..., 0., 0., 0.]), array([0., 0., 0., ..., 0., 0., 0.]), array([0., 0., 0., ..., 0., 0., 0.]), array([0., 0., 0., ..., 0., 0., 0.]), array([0., 0., 0., ..., 0., 0., 0.]), array([0., 0., 0., ..., 0., 0., 0.]), array([0., 0., 0., ..., 0., 0., 0.]), array([0., 0., 0., ..., 0., 0., 0.]), array([0.26602883, 0.        , 0.34481518, ..., 0.        , 0.        ,\n",
            "       0.        ]), array([0., 0., 0., ..., 0., 0., 0.]), array([0., 0., 0., ..., 0., 0., 0.]), array([0., 0., 0., ..., 0., 0., 0.]), array([0., 0., 0., ..., 0., 0., 0.]), array([0., 0., 0., ..., 0., 0., 0.]), array([0., 0., 0., ..., 0., 0., 0.]), array([0., 0., 0., ..., 0., 0., 0.]), array([0., 0., 0., ..., 0., 0., 0.]), array([0.0672463 , 0.        , 0.04277732, ..., 0.        , 0.        ,\n",
            "       0.        ]), array([0., 0., 0., ..., 0., 0., 0.]), array([0., 0., 0., ..., 0., 0., 0.]), array([0., 0., 0., ..., 0., 0., 0.]), array([0., 0., 0., ..., 0., 0., 0.]), array([0., 0., 0., ..., 0., 0., 0.]), array([0., 0., 0., ..., 0., 0., 0.]), array([0., 0., 0., ..., 0., 0., 0.]), array([0., 0., 0., ..., 0., 0., 0.]), array([0., 0., 0., ..., 0., 0., 0.]), array([0., 0., 0., ..., 0., 0., 0.]), array([0., 0., 0., ..., 0., 0., 0.]), array([0., 0., 0., ..., 0., 0., 0.]), array([0., 0., 0., ..., 0., 0., 0.]), array([0., 0., 0., ..., 0., 0., 0.]), array([0., 0., 0., ..., 0., 0., 0.]), array([0., 0., 0., ..., 0., 0., 0.]), array([0., 0., 0., ..., 0., 0., 0.]), array([0.06301127, 0.        , 0.08412878, ..., 0.        , 0.        ,\n",
            "       0.        ]), array([0., 0., 0., ..., 0., 0., 0.]), array([0., 0., 0., ..., 0., 0., 0.]), array([0., 0., 0., ..., 0., 0., 0.]), array([0., 0., 0., ..., 0., 0., 0.]), array([0., 0., 0., ..., 0., 0., 0.]), array([0., 0., 0., ..., 0., 0., 0.]), array([0., 0., 0., ..., 0., 0., 0.]), array([0., 0., 0., ..., 0., 0., 0.]), array([0., 0., 0., ..., 0., 0., 0.]), array([0., 0., 0., ..., 0., 0., 0.]), array([0., 0., 0., ..., 0., 0., 0.]), array([0., 0., 0., ..., 0., 0., 0.]), array([0., 0., 0., ..., 0., 0., 0.]), array([0., 0., 0., ..., 0., 0., 0.]), array([0., 0., 0., ..., 0., 0., 0.]), array([2.78975107e-16, 0.00000000e+00, 3.94997712e-01, ...,\n",
            "       0.00000000e+00, 0.00000000e+00, 0.00000000e+00]), array([0., 0., 0., ..., 0., 0., 0.]), array([0., 0., 0., ..., 0., 0., 0.]), array([0., 0., 0., ..., 0., 0., 0.]), array([0.        , 0.        , 0.        , ..., 0.04185692, 0.        ,\n",
            "       0.        ]), array([0.09231889, 0.03880664, 0.404008  , ..., 0.        , 0.        ,\n",
            "       0.        ]), array([0., 0., 0., ..., 0., 0., 0.]), array([0., 0., 0., ..., 0., 0., 0.]), array([0., 0., 0., ..., 0., 0., 0.]), array([0., 0., 0., ..., 0., 0., 0.]), array([0., 0., 0., ..., 0., 0., 0.]), array([0., 0., 0., ..., 0., 0., 0.]), array([0., 0., 0., ..., 0., 0., 0.]), array([0., 0., 0., ..., 0., 0., 0.]), array([0., 0., 0., ..., 0., 0., 0.]), array([0., 0., 0., ..., 0., 0., 0.]), array([0., 0., 0., ..., 0., 0., 0.]), array([0., 0., 0., ..., 0., 0., 0.]), array([0., 0., 0., ..., 0., 0., 0.]), array([0., 0., 0., ..., 0., 0., 0.]), array([0., 0., 0., ..., 0., 0., 0.]), array([0.25219333, 0.        , 0.        , ..., 0.05156743, 0.07613747,\n",
            "       0.0366969 ]), array([0.19967624, 0.        , 0.09057966, ..., 0.07078998, 0.0548759 ,\n",
            "       0.        ]), array([0.        , 0.        , 0.        , ..., 0.30177965, 0.        ,\n",
            "       0.        ]), array([0.06746266, 0.        , 0.        , ..., 0.        , 0.        ,\n",
            "       0.        ]), array([0., 0., 0., ..., 0., 0., 0.]), array([0., 0., 0., ..., 0., 0., 0.]), array([0., 0., 0., ..., 0., 0., 0.]), array([0., 0., 0., ..., 0., 0., 0.]), array([0., 0., 0., ..., 0., 0., 0.]), array([0., 0., 0., ..., 0., 0., 0.]), array([0., 0., 0., ..., 0., 0., 0.]), array([0., 0., 0., ..., 0., 0., 0.]), array([0., 0., 0., ..., 0., 0., 0.]), array([0., 0., 0., ..., 0., 0., 0.]), array([0., 0., 0., ..., 0., 0., 0.]), array([0., 0., 0., ..., 0., 0., 0.]), array([0.        , 0.        , 0.        , ..., 0.04258244, 0.        ,\n",
            "       0.        ]), array([0., 0., 0., ..., 0., 0., 0.]), array([0.08659181, 0.        , 0.08224301, ..., 0.        , 0.        ,\n",
            "       0.        ]), array([0.        , 0.        , 0.03751619, ..., 0.        , 0.        ,\n",
            "       0.        ]), array([0.56035405, 0.        , 0.36433882, ..., 0.        , 0.        ,\n",
            "       0.        ]), array([0., 0., 0., ..., 0., 0., 0.]), array([0., 0., 0., ..., 0., 0., 0.]), array([0., 0., 0., ..., 0., 0., 0.]), array([0., 0., 0., ..., 0., 0., 0.]), array([0., 0., 0., ..., 0., 0., 0.]), array([0., 0., 0., ..., 0., 0., 0.]), array([0., 0., 0., ..., 0., 0., 0.]), array([0., 0., 0., ..., 0., 0., 0.]), array([0., 0., 0., ..., 0., 0., 0.]), array([0., 0., 0., ..., 0., 0., 0.]), array([0.        , 0.        , 0.        , ..., 0.22820031, 0.        ,\n",
            "       0.        ]), array([0.       , 0.       , 0.       , ..., 0.1868146, 0.       ,\n",
            "       0.0672036]), array([0., 0., 0., ..., 0., 0., 0.]), array([0., 0., 0., ..., 0., 0., 0.]), array([0., 0., 0., ..., 0., 0., 0.]), array([0., 0., 0., ..., 0., 0., 0.]), array([0., 0., 0., ..., 0., 0., 0.]), array([0., 0., 0., ..., 0., 0., 0.]), array([0., 0., 0., ..., 0., 0., 0.]), array([0., 0., 0., ..., 0., 0., 0.]), array([0., 0., 0., ..., 0., 0., 0.]), array([0., 0., 0., ..., 0., 0., 0.]), array([0., 0., 0., ..., 0., 0., 0.]), array([0., 0., 0., ..., 0., 0., 0.]), array([0., 0., 0., ..., 0., 0., 0.]), array([0., 0., 0., ..., 0., 0., 0.]), array([0., 0., 0., ..., 0., 0., 0.]), array([0., 0., 0., ..., 0., 0., 0.]), array([0.0496991 , 0.03276884, 0.0441995 , ..., 0.26979743, 0.00588164,\n",
            "       0.09951865]), array([0., 0., 0., ..., 0., 0., 0.]), array([0.03092725, 0.        , 0.        , ..., 0.        , 0.        ,\n",
            "       0.        ]), array([0.        , 0.        , 0.        , ..., 0.20105261, 0.08161967,\n",
            "       0.14619741]), array([0., 0., 0., ..., 0., 0., 0.]), array([0., 0., 0., ..., 0., 0., 0.]), array([0., 0., 0., ..., 0., 0., 0.]), array([0., 0., 0., ..., 0., 0., 0.]), array([0., 0., 0., ..., 0., 0., 0.]), array([0., 0., 0., ..., 0., 0., 0.]), array([0., 0., 0., ..., 0., 0., 0.]), array([0., 0., 0., ..., 0., 0., 0.]), array([0., 0., 0., ..., 0., 0., 0.]), array([0., 0., 0., ..., 0., 0., 0.]), array([0., 0., 0., ..., 0., 0., 0.]), array([0., 0., 0., ..., 0., 0., 0.]), array([0., 0., 0., ..., 0., 0., 0.]), array([0.        , 0.        , 0.        , ..., 0.01967387, 0.        ,\n",
            "       0.        ]), array([0., 0., 0., ..., 0., 0., 0.]), array([0.88159492, 0.        , 0.        , ..., 0.06625693, 0.10531515,\n",
            "       0.        ]), array([0.80558404, 0.        , 0.        , ..., 0.01740773, 0.        ,\n",
            "       0.        ]), array([0.94499747, 0.        , 0.        , ..., 0.        , 0.        ,\n",
            "       0.        ]), array([0., 0., 0., ..., 0., 0., 0.]), array([0., 0., 0., ..., 0., 0., 0.]), array([0., 0., 0., ..., 0., 0., 0.])]\n"
          ],
          "name": "stdout"
        }
      ]
    },
    {
      "cell_type": "code",
      "metadata": {
        "id": "VSguVNCMMdoC",
        "colab_type": "code",
        "outputId": "8ece66c9-c46b-4e9e-8b7c-fca9741f11e2",
        "colab": {
          "base_uri": "https://localhost:8080/",
          "height": 51
        }
      },
      "source": [
        "print(len(features_train))\n",
        "print(len(labels_train))\n",
        "train_data = []\n",
        "for i in features_train :\n",
        "  for j in i:\n",
        "    train_data.append(j)\n"
      ],
      "execution_count": 0,
      "outputs": [
        {
          "output_type": "stream",
          "text": [
            "8840\n",
            "8840\n"
          ],
          "name": "stdout"
        }
      ]
    },
    {
      "cell_type": "code",
      "metadata": {
        "id": "q4JIFYMh6v1d",
        "colab_type": "code",
        "outputId": "82e0fe6e-1357-458a-893e-4abd76e8845b",
        "colab": {
          "base_uri": "https://localhost:8080/",
          "height": 34
        }
      },
      "source": [
        "\n",
        "features_test = []\n",
        "labels_test = []\n",
        "test_data = [1, 3, 4, 9, 10, 13, 15, 21, 22, 26, 29, 30, 32, 35, 39, 44, 47, 48, 54, 60]\n",
        "for i in test_data:\n",
        "  img_mask = imread(image_path('masks',i))\n",
        "  img_annt = imread(image_path('annotations',i))\n",
        "  for w in range(0, width, 80):\n",
        "    for h in range(0, height, 80):\n",
        "      win_img =img_annt[w:w+80,h:h+80]\n",
        "      x, y = win_img.shape[:2]\n",
        "      g_count = 0 \n",
        "      r_count = 0 \n",
        "      for i in range(x):\n",
        "        for j in range(y):\n",
        "          if np.all(win_img[i][j] == np.array([0, 255, 0])):\n",
        "            g_count+=1\n",
        "          if np.all(win_img[i][j] == np.array([255, 0, 0])):\n",
        "            r_count+=1\n",
        "      if g_count+r_count == 0 :\n",
        "         labels_test.append(0)\n",
        "      else:\n",
        "        win_level = r_count/(g_count+r_count)\n",
        "        if win_level < 0.4 :\n",
        "          labels_test.append(1)\n",
        "        elif (win_level>=0.4)&(win_level<0.7):\n",
        "          labels_test.append(2)\n",
        "        elif (win_level>=0.7)&(win_level<0.85):\n",
        "          labels_test.append(3)\n",
        "        else:\n",
        "          labels_test.append(4)\n",
        "\n",
        "      image_resized = resize(img_mask[w:w+80,h:h+80],(40,80))\n",
        "      descriptor, hog_image = hog(image_resized, orientations=9, pixels_per_cell=(8, 8), \n",
        "                    cells_per_block=(2, 2), block_norm= 'L2', visualize=True, multichannel=None)\n",
        "      features_test.append(descriptor)\n",
        "print(\"younis & menna & Omar\")"
      ],
      "execution_count": 0,
      "outputs": [
        {
          "output_type": "stream",
          "text": [
            "younis & menna & Omar\n"
          ],
          "name": "stdout"
        }
      ]
    },
    {
      "cell_type": "code",
      "metadata": {
        "id": "xUPlUWfq_Qlm",
        "colab_type": "code",
        "outputId": "b6b64df2-faae-4b8a-af85-bb4d7524338f",
        "colab": {
          "base_uri": "https://localhost:8080/",
          "height": 170
        }
      },
      "source": [
        "print(features_test)\n",
        "print(len(features_train))\n",
        "print(len(labels_test))\n"
      ],
      "execution_count": 0,
      "outputs": [
        {
          "output_type": "stream",
          "text": [
            "[[0. 0. 0. ... 0. 0. 0.]\n",
            " [0. 0. 0. ... 0. 0. 0.]\n",
            " [0. 0. 0. ... 0. 0. 0.]\n",
            " ...\n",
            " [0. 0. 0. ... 0. 0. 0.]\n",
            " [0. 0. 0. ... 0. 0. 0.]\n",
            " [0. 0. 0. ... 0. 0. 0.]]\n",
            "8840\n",
            "4641\n"
          ],
          "name": "stdout"
        }
      ]
    },
    {
      "cell_type": "code",
      "metadata": {
        "id": "SI1XEoQvHsd9",
        "colab_type": "code",
        "colab": {}
      },
      "source": [
        "\n",
        "for i in test_labels:\n",
        "  label=label_generator(i)\n",
        "  level=np.sum(label[:,:,1])/(np.sum(label[:,:,1])+np.sum(label[:,:,0]))\n",
        "  levels_test.append(level)\n",
        "for i in range(len(levels_test)):\n",
        "  if levels_test[i] < 0.4 :\n",
        "    levels_test[i]=1\n",
        "  elif (levels_test[i]>=0.4)&(levels_test[i]<0.7):\n",
        "    levels_test[i]=2\n",
        "  elif (levels_test[i]>=0.7)&(levels_test[i]<0.85):\n",
        "     levels_test[i]=3\n",
        "  else:\n",
        "     levels_test[i]=4 "
      ],
      "execution_count": 0,
      "outputs": []
    },
    {
      "cell_type": "code",
      "metadata": {
        "id": "6hiK7gKwybTK",
        "colab_type": "code",
        "colab": {}
      },
      "source": [
        "Features_test = []\n",
        "test_labels = [1, 3, 4, 9, 10, 13, 15, 21, 22, 26, 29, 30, 32, 35, 39, 44, 47, 48, 54, 60]\n",
        "for i in test_labels:\n",
        "  img = imread(image_path('masks',i))\n",
        "  image_resized = resize(img,(512,265))\n",
        "  descriptor, hog_image = hog(image_resized, orientations=9, pixels_per_cell=(8, 8), \n",
        "                    cells_per_block=(2, 2), block_norm= 'L2', visualize=True, multichannel=None)\n",
        "  descriptor.ravel()  # flattened array convert 2D to 1D\n",
        "  Features_test.append(descriptor)"
      ],
      "execution_count": 0,
      "outputs": []
    },
    {
      "cell_type": "code",
      "metadata": {
        "id": "IV_xxC3_JmC0",
        "colab_type": "code",
        "colab": {}
      },
      "source": [
        "clf = svm.SVC(class_weight='balanced')\n",
        "features_train = np.array(features_train)\n",
        "features_test = np.array(features_test)\n",
        "labels_test = np.array(labels_test)\n",
        "labels_train = np.array(labels_train)"
      ],
      "execution_count": 0,
      "outputs": []
    },
    {
      "cell_type": "code",
      "metadata": {
        "id": "NN9BiMpmV_e2",
        "colab_type": "code",
        "outputId": "51f7fe96-099c-4953-b19b-ec0355eda789",
        "colab": {
          "base_uri": "https://localhost:8080/",
          "height": 85
        }
      },
      "source": [
        "clf.fit(features_train,labels_train)\n"
      ],
      "execution_count": 0,
      "outputs": [
        {
          "output_type": "execute_result",
          "data": {
            "text/plain": [
              "SVC(C=1.0, break_ties=False, cache_size=200, class_weight='balanced', coef0=0.0,\n",
              "    decision_function_shape='ovr', degree=3, gamma='scale', kernel='rbf',\n",
              "    max_iter=-1, probability=False, random_state=None, shrinking=True,\n",
              "    tol=0.001, verbose=False)"
            ]
          },
          "metadata": {
            "tags": []
          },
          "execution_count": 39
        }
      ]
    },
    {
      "cell_type": "code",
      "metadata": {
        "id": "FX6DDHssWJ_s",
        "colab_type": "code",
        "colab": {}
      },
      "source": [
        "labels_pred = clf.predict(features_test)\n"
      ],
      "execution_count": 0,
      "outputs": []
    },
    {
      "cell_type": "code",
      "metadata": {
        "id": "7_cETlBZWSvN",
        "colab_type": "code",
        "outputId": "bbf64a59-50a4-4d8d-aded-cf1ca10a6ea4",
        "colab": {
          "base_uri": "https://localhost:8080/",
          "height": 187
        }
      },
      "source": [
        "print(\"predicted label : \"+str(len(labels_pred)))\n",
        "l1 =0 \n",
        "l2 =0\n",
        "l3 =0 \n",
        "l4 =0\n",
        "for i in labels_pred :\n",
        "  if i == 1 :\n",
        "    l1+=1\n",
        "  elif i ==2:\n",
        "    l2+=1\n",
        "  elif i ==3:\n",
        "    l3+=1\n",
        "  elif i ==4:\n",
        "    l4+=1\n",
        "print(\"level 1 : \"+str(l1))\n",
        "print(\"level 2 : \"+str(l2))\n",
        "print(\"level 3 : \"+str(l3))\n",
        "print(\"level 4 : \"+str(l4))\n",
        "print(\"actual labels : \"+str(len(labels_test)))\n",
        "l1 =0 \n",
        "l2 =0\n",
        "l3 =0 \n",
        "l4 =0\n",
        "for i in labels_test :\n",
        "  if i == 1 :\n",
        "    l1+=1\n",
        "  elif i ==2:\n",
        "    l2+=1\n",
        "  elif i ==3:\n",
        "    l3+=1\n",
        "  elif i ==4:\n",
        "    l4+=1\n",
        "print(\"level 1 : \"+str(l1))\n",
        "print(\"level 2 : \"+str(l2))\n",
        "print(\"level 3 : \"+str(l3))\n",
        "print(\"level 4 : \"+str(l4))"
      ],
      "execution_count": 0,
      "outputs": [
        {
          "output_type": "stream",
          "text": [
            "predicted label : 4641\n",
            "level 1 : 120\n",
            "level 2 : 6\n",
            "level 3 : 2\n",
            "level 4 : 1102\n",
            "actual labels : 4641\n",
            "level 1 : 274\n",
            "level 2 : 25\n",
            "level 3 : 10\n",
            "level 4 : 843\n"
          ],
          "name": "stdout"
        }
      ]
    },
    {
      "cell_type": "code",
      "metadata": {
        "id": "gK6PCZitWWz5",
        "colab_type": "code",
        "outputId": "b58f8085-99db-49e0-9ea3-a3c1a2a6c2a7",
        "colab": {
          "base_uri": "https://localhost:8080/",
          "height": 34
        }
      },
      "source": [
        "print('MSE: ' , mean_squared_error(labels_test, labels_pred))"
      ],
      "execution_count": 0,
      "outputs": [
        {
          "output_type": "stream",
          "text": [
            "MSE:  0.8299935358758889\n"
          ],
          "name": "stdout"
        }
      ]
    },
    {
      "cell_type": "code",
      "metadata": {
        "id": "RBVXhRsubak6",
        "colab_type": "code",
        "outputId": "0e0e2e21-5c1b-40a1-8ed3-3ff199732ec1",
        "colab": {
          "base_uri": "https://localhost:8080/",
          "height": 221
        }
      },
      "source": [
        "print(classification_report(labels_test, labels_pred))\n"
      ],
      "execution_count": 0,
      "outputs": [
        {
          "output_type": "stream",
          "text": [
            "              precision    recall  f1-score   support\n",
            "\n",
            "           0       1.00      0.98      0.99      3489\n",
            "           1       0.31      0.14      0.19       274\n",
            "           2       1.00      0.24      0.39        25\n",
            "           3       1.00      0.20      0.33        10\n",
            "           4       0.70      0.92      0.80       843\n",
            "\n",
            "    accuracy                           0.91      4641\n",
            "   macro avg       0.80      0.49      0.54      4641\n",
            "weighted avg       0.91      0.91      0.90      4641\n",
            "\n"
          ],
          "name": "stdout"
        }
      ]
    },
    {
      "cell_type": "code",
      "metadata": {
        "id": "5pK9mbiUWoDN",
        "colab_type": "code",
        "outputId": "beb2934f-90cd-474a-e061-54dea009dfc2",
        "colab": {
          "base_uri": "https://localhost:8080/",
          "height": 34
        }
      },
      "source": [
        "print(\"Accuracy: \"+str(accuracy_score(labels_test, labels_pred)))\n"
      ],
      "execution_count": 0,
      "outputs": [
        {
          "output_type": "stream",
          "text": [
            "Accuracy: 0.9187675070028011\n"
          ],
          "name": "stdout"
        }
      ]
    },
    {
      "cell_type": "code",
      "metadata": {
        "id": "Z5YuCLm7W0QM",
        "colab_type": "code",
        "outputId": "b14fbea9-5a5a-4ad2-c88b-be24da2ca489",
        "colab": {
          "base_uri": "https://localhost:8080/",
          "height": 34
        }
      },
      "source": [
        "print(len(labels_pred))"
      ],
      "execution_count": 0,
      "outputs": [
        {
          "output_type": "stream",
          "text": [
            "4641\n"
          ],
          "name": "stdout"
        }
      ]
    },
    {
      "cell_type": "code",
      "metadata": {
        "id": "t_GlDMnJXDiW",
        "colab_type": "code",
        "outputId": "2c2ef974-9afa-4e7c-aabe-7ed36408422f",
        "colab": {
          "base_uri": "https://localhost:8080/",
          "height": 63
        }
      },
      "source": [
        "import glob\n",
        "import yaml\n",
        "import cv2\n",
        "import numpy as np\n",
        "import os\n",
        "from random import shuffle\n",
        "import tensorflow as tf\n",
        "import matplotlib.pyplot as plt\n",
        "from PIL import Image \n",
        "import pandas as pd\n",
        "import seaborn as sns\n",
        "from skimage.transform import rescale, resize\n",
        "from skimage.color import rgb2gray\n",
        "from skimage.feature import local_binary_pattern\n",
        "from skimage.feature import hog\n",
        "from skimage import data, exposure\n",
        "from skimage.io import imread, imshow\n",
        "from sklearn.metrics import mean_squared_error\n",
        "from sklearn import svm\n",
        "from sklearn.metrics import classification_report,accuracy_score\n",
        "import itertools \n",
        "import imutils \n"
      ],
      "execution_count": 0,
      "outputs": [
        {
          "output_type": "display_data",
          "data": {
            "text/html": [
              "<p style=\"color: red;\">\n",
              "The default version of TensorFlow in Colab will soon switch to TensorFlow 2.x.<br>\n",
              "We recommend you <a href=\"https://www.tensorflow.org/guide/migrate\" target=\"_blank\">upgrade</a> now \n",
              "or ensure your notebook will continue to use TensorFlow 1.x via the <code>%tensorflow_version 1.x</code> magic:\n",
              "<a href=\"https://colab.research.google.com/notebooks/tensorflow_version.ipynb\" target=\"_blank\">more info</a>.</p>\n"
            ],
            "text/plain": [
              "<IPython.core.display.HTML object>"
            ]
          },
          "metadata": {
            "tags": []
          }
        }
      ]
    },
    {
      "cell_type": "code",
      "metadata": {
        "id": "0W9KEMoGdVAH",
        "colab_type": "code",
        "colab": {}
      },
      "source": [
        "def image_path(img_type, img_number):\n",
        "    #image_type: 'images' #original image, 'annotations' #crop-weed label, 'mask' #vegetation segmentation\n",
        "    #image_number: the number on the image name\n",
        "    image_name = img_type[:-1]\n",
        "    if img_number < 10:\n",
        "        path = '/content/'+img_type+'/00'+str(img_number)+'_'+str(image_name)+'.png'\n",
        "    else:\n",
        "        path = '/content/'+img_type+'/0'+str(img_number)+'_'+str(image_name)+'.png'\n",
        "    return path"
      ],
      "execution_count": 0,
      "outputs": []
    },
    {
      "cell_type": "code",
      "metadata": {
        "id": "WqQybRKXdpUh",
        "colab_type": "code",
        "colab": {}
      },
      "source": [
        "def ImageSegmentation(image):\n",
        "  #convert GRB color to HSV color \n",
        "  image_hsv = cv2.cvtColor(image, cv2.COLOR_BGR2HSV)\n",
        "  sensitivity = 40\n",
        "  lower_hsv = np.array([60 - sensitivity, 120, 80])\n",
        "  upper_hsv = np.array([60 + sensitivity, 255, 255])\n",
        "\n",
        "  # create mask\n",
        "  mask = cv2.inRange(image_hsv, lower_hsv, upper_hsv)\n",
        "\n",
        "  img_mask = cv2.bitwise_and(image, image, mask = mask)\n",
        "  \n",
        "  plt.figure(figsize=(10,10))\n",
        "  #plt.subplot(5,2,1)\n",
        "  #plt.imshow(img_mask)\n",
        "\n",
        "  #applying median filter \n",
        "  median_out = cv2.medianBlur(img_mask, 5)\n",
        "  #plt.subplot(5,2,2)\n",
        "  #plt.imshow(median_out)\n",
        "\n",
        "  #Binary Image with threshold\n",
        "  ret, ImgBW = cv2.threshold(median_out,0,255,cv2.THRESH_BINARY)\n",
        "  #plt.subplot(5,2,3)\n",
        "  #plt.imshow(ImgBW)\n",
        "\n",
        "  #Colorimg  All plante in the image with gray \n",
        "  image  = Image.new('RGB',(1296,966),color=(0,255,0))\n",
        "  Img_out = np.multiply((ImgBW/255),image)\n",
        "  #plt.subplot(5,2,4)\n",
        "  #plt.imshow(Img_out)\n",
        "\n",
        "  #Image Copy \n",
        "  Img_Gradient = ImgBW\n",
        "\n",
        "  #Image Gradient\n",
        "  kernel = np.ones((3,3),np.uint8)\n",
        "  for i in range(7):\n",
        "    Gradient = cv2.morphologyEx(Img_Gradient, cv2.MORPH_GRADIENT, kernel)\n",
        "    Img_Gradient = Img_Gradient - Gradient\n",
        "  #plt.subplot(5,2,5)\n",
        "  #plt.imshow(Img_Gradient)\n",
        "\n",
        "  #Image Gradient Median Filter :useful pre-processing tool for image segmentation tasks.\n",
        "  Gradient_median = cv2.medianBlur(Img_Gradient, 7)\n",
        "  #plt.subplot(5,2,6)\n",
        "  #plt.imshow(Gradient_median)\n",
        "\n",
        "  #convert to GRAY Image \n",
        "  cnvt_img = cv2.cvtColor(Gradient_median, cv2.COLOR_BGR2GRAY)\n",
        "  #plt.subplot(5,2,7)\n",
        "  #plt.imshow(cnvt_img) \n",
        "  \n",
        "  #Convert Gray image to Binary Image (Black & White)\n",
        "  ret,binary = cv2.threshold(cnvt_img, 0, 255, cv2.THRESH_OTSU | cv2.THRESH_BINARY_INV)\n",
        "  #plt.subplot(5,2,8)\n",
        " # plt.imshow(binary)\n",
        "  \n",
        "\n",
        "  #find contours of remain conncted object \n",
        "  contours ,_= cv2.findContours(binary, cv2.RETR_TREE, cv2.CHAIN_APPROX_SIMPLE)\n",
        "\n",
        "  #Count and Draw Contours \n",
        "  contour = []\n",
        "  max_area = 0\n",
        "  for cnt in contours :\n",
        "    area = cv2.contourArea(cnt)\n",
        "    if area > max_area:\n",
        "      max_area = area \n",
        "    if area > 700:\n",
        "      if area == max_area: \n",
        "        continue\n",
        "      else:\n",
        "        contour.append(cnt)\n",
        "    else:\n",
        "      continue\n",
        "  #img_org = cv2.drawContours(image, contour , -1, (255,0,0),thickness =cv2.FILLED)\n",
        "  img= cv2.drawContours(median_out, contour , -1, (255,0,0),thickness =cv2.FILLED)\n",
        "  Img_out= cv2.drawContours(Img_out, contour , -1, (255,0,0),thickness =cv2.FILLED)\n",
        "  return Img_out\n",
        " # plt.subplot(5,2,9)\n",
        " # plt.imshow(img_org)\n",
        "  \n",
        "  #plt.subplot(5,2,10)\n",
        "  #plt.imshow(Img_out)"
      ],
      "execution_count": 0,
      "outputs": []
    },
    {
      "cell_type": "code",
      "metadata": {
        "id": "IPRJVkDHeD2o",
        "colab_type": "code",
        "outputId": "ea01c7ea-ee23-4051-a6f4-16b48f9e1c71",
        "colab": {
          "base_uri": "https://localhost:8080/",
          "height": 751
        }
      },
      "source": [
        "train_data=[2, 5, 6, 7, 8, 11, 12, 14, 16, 17, 18, 19, 20, 23, 24, 25, 27, 28, 31, 33, 34, 36, 37, 38, 40, 41, 42, 43, 45, 46, 49, 50, 51, 52, 53, 55, 56, 57, 58, 59]\n",
        "for i in train_data:\n",
        "  original_image =cv2.imread(image_path('images',i))\n",
        "  img_annot=ImageSegmentation(original_image)\n",
        "  if i < 10:\n",
        "        plt.imsave('/content/Annotations/'+'00'+str(i)+'_Annotation.png',np.uint8(img_annot))\n",
        "  else:\n",
        "        plt.imsave('/content/Annotations/'+'0'+str(i)+'_Annotation.png',np.uint8(img_annot))"
      ],
      "execution_count": 0,
      "outputs": [
        {
          "output_type": "stream",
          "text": [
            "/usr/local/lib/python3.6/dist-packages/ipykernel_launcher.py:13: RuntimeWarning: More than 20 figures have been opened. Figures created through the pyplot interface (`matplotlib.pyplot.figure`) are retained until explicitly closed and may consume too much memory. (To control this warning, see the rcParam `figure.max_open_warning`).\n",
            "  del sys.path[0]\n"
          ],
          "name": "stderr"
        },
        {
          "output_type": "display_data",
          "data": {
            "text/plain": [
              "<Figure size 720x720 with 0 Axes>"
            ]
          },
          "metadata": {
            "tags": []
          }
        },
        {
          "output_type": "display_data",
          "data": {
            "text/plain": [
              "<Figure size 720x720 with 0 Axes>"
            ]
          },
          "metadata": {
            "tags": []
          }
        },
        {
          "output_type": "display_data",
          "data": {
            "text/plain": [
              "<Figure size 720x720 with 0 Axes>"
            ]
          },
          "metadata": {
            "tags": []
          }
        },
        {
          "output_type": "display_data",
          "data": {
            "text/plain": [
              "<Figure size 720x720 with 0 Axes>"
            ]
          },
          "metadata": {
            "tags": []
          }
        },
        {
          "output_type": "display_data",
          "data": {
            "text/plain": [
              "<Figure size 720x720 with 0 Axes>"
            ]
          },
          "metadata": {
            "tags": []
          }
        },
        {
          "output_type": "display_data",
          "data": {
            "text/plain": [
              "<Figure size 720x720 with 0 Axes>"
            ]
          },
          "metadata": {
            "tags": []
          }
        },
        {
          "output_type": "display_data",
          "data": {
            "text/plain": [
              "<Figure size 720x720 with 0 Axes>"
            ]
          },
          "metadata": {
            "tags": []
          }
        },
        {
          "output_type": "display_data",
          "data": {
            "text/plain": [
              "<Figure size 720x720 with 0 Axes>"
            ]
          },
          "metadata": {
            "tags": []
          }
        },
        {
          "output_type": "display_data",
          "data": {
            "text/plain": [
              "<Figure size 720x720 with 0 Axes>"
            ]
          },
          "metadata": {
            "tags": []
          }
        },
        {
          "output_type": "display_data",
          "data": {
            "text/plain": [
              "<Figure size 720x720 with 0 Axes>"
            ]
          },
          "metadata": {
            "tags": []
          }
        },
        {
          "output_type": "display_data",
          "data": {
            "text/plain": [
              "<Figure size 720x720 with 0 Axes>"
            ]
          },
          "metadata": {
            "tags": []
          }
        },
        {
          "output_type": "display_data",
          "data": {
            "text/plain": [
              "<Figure size 720x720 with 0 Axes>"
            ]
          },
          "metadata": {
            "tags": []
          }
        },
        {
          "output_type": "display_data",
          "data": {
            "text/plain": [
              "<Figure size 720x720 with 0 Axes>"
            ]
          },
          "metadata": {
            "tags": []
          }
        },
        {
          "output_type": "display_data",
          "data": {
            "text/plain": [
              "<Figure size 720x720 with 0 Axes>"
            ]
          },
          "metadata": {
            "tags": []
          }
        },
        {
          "output_type": "display_data",
          "data": {
            "text/plain": [
              "<Figure size 720x720 with 0 Axes>"
            ]
          },
          "metadata": {
            "tags": []
          }
        },
        {
          "output_type": "display_data",
          "data": {
            "text/plain": [
              "<Figure size 720x720 with 0 Axes>"
            ]
          },
          "metadata": {
            "tags": []
          }
        },
        {
          "output_type": "display_data",
          "data": {
            "text/plain": [
              "<Figure size 720x720 with 0 Axes>"
            ]
          },
          "metadata": {
            "tags": []
          }
        },
        {
          "output_type": "display_data",
          "data": {
            "text/plain": [
              "<Figure size 720x720 with 0 Axes>"
            ]
          },
          "metadata": {
            "tags": []
          }
        },
        {
          "output_type": "display_data",
          "data": {
            "text/plain": [
              "<Figure size 720x720 with 0 Axes>"
            ]
          },
          "metadata": {
            "tags": []
          }
        },
        {
          "output_type": "display_data",
          "data": {
            "text/plain": [
              "<Figure size 720x720 with 0 Axes>"
            ]
          },
          "metadata": {
            "tags": []
          }
        },
        {
          "output_type": "display_data",
          "data": {
            "text/plain": [
              "<Figure size 720x720 with 0 Axes>"
            ]
          },
          "metadata": {
            "tags": []
          }
        },
        {
          "output_type": "display_data",
          "data": {
            "text/plain": [
              "<Figure size 720x720 with 0 Axes>"
            ]
          },
          "metadata": {
            "tags": []
          }
        },
        {
          "output_type": "display_data",
          "data": {
            "text/plain": [
              "<Figure size 720x720 with 0 Axes>"
            ]
          },
          "metadata": {
            "tags": []
          }
        },
        {
          "output_type": "display_data",
          "data": {
            "text/plain": [
              "<Figure size 720x720 with 0 Axes>"
            ]
          },
          "metadata": {
            "tags": []
          }
        },
        {
          "output_type": "display_data",
          "data": {
            "text/plain": [
              "<Figure size 720x720 with 0 Axes>"
            ]
          },
          "metadata": {
            "tags": []
          }
        },
        {
          "output_type": "display_data",
          "data": {
            "text/plain": [
              "<Figure size 720x720 with 0 Axes>"
            ]
          },
          "metadata": {
            "tags": []
          }
        },
        {
          "output_type": "display_data",
          "data": {
            "text/plain": [
              "<Figure size 720x720 with 0 Axes>"
            ]
          },
          "metadata": {
            "tags": []
          }
        },
        {
          "output_type": "display_data",
          "data": {
            "text/plain": [
              "<Figure size 720x720 with 0 Axes>"
            ]
          },
          "metadata": {
            "tags": []
          }
        },
        {
          "output_type": "display_data",
          "data": {
            "text/plain": [
              "<Figure size 720x720 with 0 Axes>"
            ]
          },
          "metadata": {
            "tags": []
          }
        },
        {
          "output_type": "display_data",
          "data": {
            "text/plain": [
              "<Figure size 720x720 with 0 Axes>"
            ]
          },
          "metadata": {
            "tags": []
          }
        },
        {
          "output_type": "display_data",
          "data": {
            "text/plain": [
              "<Figure size 720x720 with 0 Axes>"
            ]
          },
          "metadata": {
            "tags": []
          }
        },
        {
          "output_type": "display_data",
          "data": {
            "text/plain": [
              "<Figure size 720x720 with 0 Axes>"
            ]
          },
          "metadata": {
            "tags": []
          }
        },
        {
          "output_type": "display_data",
          "data": {
            "text/plain": [
              "<Figure size 720x720 with 0 Axes>"
            ]
          },
          "metadata": {
            "tags": []
          }
        },
        {
          "output_type": "display_data",
          "data": {
            "text/plain": [
              "<Figure size 720x720 with 0 Axes>"
            ]
          },
          "metadata": {
            "tags": []
          }
        },
        {
          "output_type": "display_data",
          "data": {
            "text/plain": [
              "<Figure size 720x720 with 0 Axes>"
            ]
          },
          "metadata": {
            "tags": []
          }
        },
        {
          "output_type": "display_data",
          "data": {
            "text/plain": [
              "<Figure size 720x720 with 0 Axes>"
            ]
          },
          "metadata": {
            "tags": []
          }
        },
        {
          "output_type": "display_data",
          "data": {
            "text/plain": [
              "<Figure size 720x720 with 0 Axes>"
            ]
          },
          "metadata": {
            "tags": []
          }
        },
        {
          "output_type": "display_data",
          "data": {
            "text/plain": [
              "<Figure size 720x720 with 0 Axes>"
            ]
          },
          "metadata": {
            "tags": []
          }
        },
        {
          "output_type": "display_data",
          "data": {
            "text/plain": [
              "<Figure size 720x720 with 0 Axes>"
            ]
          },
          "metadata": {
            "tags": []
          }
        },
        {
          "output_type": "display_data",
          "data": {
            "text/plain": [
              "<Figure size 720x720 with 0 Axes>"
            ]
          },
          "metadata": {
            "tags": []
          }
        }
      ]
    },
    {
      "cell_type": "code",
      "metadata": {
        "id": "5MQt7ml_lyLd",
        "colab_type": "code",
        "outputId": "3a8ed009-6209-4302-bf0b-cb6c9a7b1c20",
        "colab": {
          "base_uri": "https://localhost:8080/",
          "height": 1000
        }
      },
      "source": [
        "for i in range(60):\n",
        "  original_image =cv2.imread(image_path('images',i+1))\n",
        "  img_annot=ImageSegmentation(original_image)\n",
        "  if i < 10:\n",
        "        plt.imsave('/content/Annotations/'+'00'+str(i+1)+'_Annotation.png',np.uint8(img_annot))\n",
        "  else:\n",
        "        plt.imsave('/content/Annotations/'+'0'+str(i+1)+'_Annotation.png',np.uint8(img_annot))"
      ],
      "execution_count": 0,
      "outputs": [
        {
          "output_type": "stream",
          "text": [
            "/usr/local/lib/python3.6/dist-packages/ipykernel_launcher.py:13: RuntimeWarning: More than 20 figures have been opened. Figures created through the pyplot interface (`matplotlib.pyplot.figure`) are retained until explicitly closed and may consume too much memory. (To control this warning, see the rcParam `figure.max_open_warning`).\n",
            "  del sys.path[0]\n"
          ],
          "name": "stderr"
        },
        {
          "output_type": "display_data",
          "data": {
            "text/plain": [
              "<Figure size 720x720 with 0 Axes>"
            ]
          },
          "metadata": {
            "tags": []
          }
        },
        {
          "output_type": "display_data",
          "data": {
            "text/plain": [
              "<Figure size 720x720 with 0 Axes>"
            ]
          },
          "metadata": {
            "tags": []
          }
        },
        {
          "output_type": "display_data",
          "data": {
            "text/plain": [
              "<Figure size 720x720 with 0 Axes>"
            ]
          },
          "metadata": {
            "tags": []
          }
        },
        {
          "output_type": "display_data",
          "data": {
            "text/plain": [
              "<Figure size 720x720 with 0 Axes>"
            ]
          },
          "metadata": {
            "tags": []
          }
        },
        {
          "output_type": "display_data",
          "data": {
            "text/plain": [
              "<Figure size 720x720 with 0 Axes>"
            ]
          },
          "metadata": {
            "tags": []
          }
        },
        {
          "output_type": "display_data",
          "data": {
            "text/plain": [
              "<Figure size 720x720 with 0 Axes>"
            ]
          },
          "metadata": {
            "tags": []
          }
        },
        {
          "output_type": "display_data",
          "data": {
            "text/plain": [
              "<Figure size 720x720 with 0 Axes>"
            ]
          },
          "metadata": {
            "tags": []
          }
        },
        {
          "output_type": "display_data",
          "data": {
            "text/plain": [
              "<Figure size 720x720 with 0 Axes>"
            ]
          },
          "metadata": {
            "tags": []
          }
        },
        {
          "output_type": "display_data",
          "data": {
            "text/plain": [
              "<Figure size 720x720 with 0 Axes>"
            ]
          },
          "metadata": {
            "tags": []
          }
        },
        {
          "output_type": "display_data",
          "data": {
            "text/plain": [
              "<Figure size 720x720 with 0 Axes>"
            ]
          },
          "metadata": {
            "tags": []
          }
        },
        {
          "output_type": "display_data",
          "data": {
            "text/plain": [
              "<Figure size 720x720 with 0 Axes>"
            ]
          },
          "metadata": {
            "tags": []
          }
        },
        {
          "output_type": "display_data",
          "data": {
            "text/plain": [
              "<Figure size 720x720 with 0 Axes>"
            ]
          },
          "metadata": {
            "tags": []
          }
        },
        {
          "output_type": "display_data",
          "data": {
            "text/plain": [
              "<Figure size 720x720 with 0 Axes>"
            ]
          },
          "metadata": {
            "tags": []
          }
        },
        {
          "output_type": "display_data",
          "data": {
            "text/plain": [
              "<Figure size 720x720 with 0 Axes>"
            ]
          },
          "metadata": {
            "tags": []
          }
        },
        {
          "output_type": "display_data",
          "data": {
            "text/plain": [
              "<Figure size 720x720 with 0 Axes>"
            ]
          },
          "metadata": {
            "tags": []
          }
        },
        {
          "output_type": "display_data",
          "data": {
            "text/plain": [
              "<Figure size 720x720 with 0 Axes>"
            ]
          },
          "metadata": {
            "tags": []
          }
        },
        {
          "output_type": "display_data",
          "data": {
            "text/plain": [
              "<Figure size 720x720 with 0 Axes>"
            ]
          },
          "metadata": {
            "tags": []
          }
        },
        {
          "output_type": "display_data",
          "data": {
            "text/plain": [
              "<Figure size 720x720 with 0 Axes>"
            ]
          },
          "metadata": {
            "tags": []
          }
        },
        {
          "output_type": "display_data",
          "data": {
            "text/plain": [
              "<Figure size 720x720 with 0 Axes>"
            ]
          },
          "metadata": {
            "tags": []
          }
        },
        {
          "output_type": "display_data",
          "data": {
            "text/plain": [
              "<Figure size 720x720 with 0 Axes>"
            ]
          },
          "metadata": {
            "tags": []
          }
        },
        {
          "output_type": "display_data",
          "data": {
            "text/plain": [
              "<Figure size 720x720 with 0 Axes>"
            ]
          },
          "metadata": {
            "tags": []
          }
        },
        {
          "output_type": "display_data",
          "data": {
            "text/plain": [
              "<Figure size 720x720 with 0 Axes>"
            ]
          },
          "metadata": {
            "tags": []
          }
        },
        {
          "output_type": "display_data",
          "data": {
            "text/plain": [
              "<Figure size 720x720 with 0 Axes>"
            ]
          },
          "metadata": {
            "tags": []
          }
        },
        {
          "output_type": "display_data",
          "data": {
            "text/plain": [
              "<Figure size 720x720 with 0 Axes>"
            ]
          },
          "metadata": {
            "tags": []
          }
        },
        {
          "output_type": "display_data",
          "data": {
            "text/plain": [
              "<Figure size 720x720 with 0 Axes>"
            ]
          },
          "metadata": {
            "tags": []
          }
        },
        {
          "output_type": "display_data",
          "data": {
            "text/plain": [
              "<Figure size 720x720 with 0 Axes>"
            ]
          },
          "metadata": {
            "tags": []
          }
        },
        {
          "output_type": "display_data",
          "data": {
            "text/plain": [
              "<Figure size 720x720 with 0 Axes>"
            ]
          },
          "metadata": {
            "tags": []
          }
        },
        {
          "output_type": "display_data",
          "data": {
            "text/plain": [
              "<Figure size 720x720 with 0 Axes>"
            ]
          },
          "metadata": {
            "tags": []
          }
        },
        {
          "output_type": "display_data",
          "data": {
            "text/plain": [
              "<Figure size 720x720 with 0 Axes>"
            ]
          },
          "metadata": {
            "tags": []
          }
        },
        {
          "output_type": "display_data",
          "data": {
            "text/plain": [
              "<Figure size 720x720 with 0 Axes>"
            ]
          },
          "metadata": {
            "tags": []
          }
        },
        {
          "output_type": "display_data",
          "data": {
            "text/plain": [
              "<Figure size 720x720 with 0 Axes>"
            ]
          },
          "metadata": {
            "tags": []
          }
        },
        {
          "output_type": "display_data",
          "data": {
            "text/plain": [
              "<Figure size 720x720 with 0 Axes>"
            ]
          },
          "metadata": {
            "tags": []
          }
        },
        {
          "output_type": "display_data",
          "data": {
            "text/plain": [
              "<Figure size 720x720 with 0 Axes>"
            ]
          },
          "metadata": {
            "tags": []
          }
        },
        {
          "output_type": "display_data",
          "data": {
            "text/plain": [
              "<Figure size 720x720 with 0 Axes>"
            ]
          },
          "metadata": {
            "tags": []
          }
        },
        {
          "output_type": "display_data",
          "data": {
            "text/plain": [
              "<Figure size 720x720 with 0 Axes>"
            ]
          },
          "metadata": {
            "tags": []
          }
        },
        {
          "output_type": "display_data",
          "data": {
            "text/plain": [
              "<Figure size 720x720 with 0 Axes>"
            ]
          },
          "metadata": {
            "tags": []
          }
        },
        {
          "output_type": "display_data",
          "data": {
            "text/plain": [
              "<Figure size 720x720 with 0 Axes>"
            ]
          },
          "metadata": {
            "tags": []
          }
        },
        {
          "output_type": "display_data",
          "data": {
            "text/plain": [
              "<Figure size 720x720 with 0 Axes>"
            ]
          },
          "metadata": {
            "tags": []
          }
        },
        {
          "output_type": "display_data",
          "data": {
            "text/plain": [
              "<Figure size 720x720 with 0 Axes>"
            ]
          },
          "metadata": {
            "tags": []
          }
        },
        {
          "output_type": "display_data",
          "data": {
            "text/plain": [
              "<Figure size 720x720 with 0 Axes>"
            ]
          },
          "metadata": {
            "tags": []
          }
        },
        {
          "output_type": "display_data",
          "data": {
            "text/plain": [
              "<Figure size 720x720 with 0 Axes>"
            ]
          },
          "metadata": {
            "tags": []
          }
        },
        {
          "output_type": "display_data",
          "data": {
            "text/plain": [
              "<Figure size 720x720 with 0 Axes>"
            ]
          },
          "metadata": {
            "tags": []
          }
        },
        {
          "output_type": "display_data",
          "data": {
            "text/plain": [
              "<Figure size 720x720 with 0 Axes>"
            ]
          },
          "metadata": {
            "tags": []
          }
        },
        {
          "output_type": "display_data",
          "data": {
            "text/plain": [
              "<Figure size 720x720 with 0 Axes>"
            ]
          },
          "metadata": {
            "tags": []
          }
        },
        {
          "output_type": "display_data",
          "data": {
            "text/plain": [
              "<Figure size 720x720 with 0 Axes>"
            ]
          },
          "metadata": {
            "tags": []
          }
        },
        {
          "output_type": "display_data",
          "data": {
            "text/plain": [
              "<Figure size 720x720 with 0 Axes>"
            ]
          },
          "metadata": {
            "tags": []
          }
        },
        {
          "output_type": "display_data",
          "data": {
            "text/plain": [
              "<Figure size 720x720 with 0 Axes>"
            ]
          },
          "metadata": {
            "tags": []
          }
        },
        {
          "output_type": "display_data",
          "data": {
            "text/plain": [
              "<Figure size 720x720 with 0 Axes>"
            ]
          },
          "metadata": {
            "tags": []
          }
        },
        {
          "output_type": "display_data",
          "data": {
            "text/plain": [
              "<Figure size 720x720 with 0 Axes>"
            ]
          },
          "metadata": {
            "tags": []
          }
        },
        {
          "output_type": "display_data",
          "data": {
            "text/plain": [
              "<Figure size 720x720 with 0 Axes>"
            ]
          },
          "metadata": {
            "tags": []
          }
        },
        {
          "output_type": "display_data",
          "data": {
            "text/plain": [
              "<Figure size 720x720 with 0 Axes>"
            ]
          },
          "metadata": {
            "tags": []
          }
        },
        {
          "output_type": "display_data",
          "data": {
            "text/plain": [
              "<Figure size 720x720 with 0 Axes>"
            ]
          },
          "metadata": {
            "tags": []
          }
        },
        {
          "output_type": "display_data",
          "data": {
            "text/plain": [
              "<Figure size 720x720 with 0 Axes>"
            ]
          },
          "metadata": {
            "tags": []
          }
        },
        {
          "output_type": "display_data",
          "data": {
            "text/plain": [
              "<Figure size 720x720 with 0 Axes>"
            ]
          },
          "metadata": {
            "tags": []
          }
        },
        {
          "output_type": "display_data",
          "data": {
            "text/plain": [
              "<Figure size 720x720 with 0 Axes>"
            ]
          },
          "metadata": {
            "tags": []
          }
        },
        {
          "output_type": "display_data",
          "data": {
            "text/plain": [
              "<Figure size 720x720 with 0 Axes>"
            ]
          },
          "metadata": {
            "tags": []
          }
        },
        {
          "output_type": "display_data",
          "data": {
            "text/plain": [
              "<Figure size 720x720 with 0 Axes>"
            ]
          },
          "metadata": {
            "tags": []
          }
        },
        {
          "output_type": "display_data",
          "data": {
            "text/plain": [
              "<Figure size 720x720 with 0 Axes>"
            ]
          },
          "metadata": {
            "tags": []
          }
        },
        {
          "output_type": "display_data",
          "data": {
            "text/plain": [
              "<Figure size 720x720 with 0 Axes>"
            ]
          },
          "metadata": {
            "tags": []
          }
        },
        {
          "output_type": "display_data",
          "data": {
            "text/plain": [
              "<Figure size 720x720 with 0 Axes>"
            ]
          },
          "metadata": {
            "tags": []
          }
        }
      ]
    },
    {
      "cell_type": "code",
      "metadata": {
        "id": "jbwTbKdceZZm",
        "colab_type": "code",
        "outputId": "b0882dda-3759-4d11-f698-cc8754e7feec",
        "colab": {
          "base_uri": "https://localhost:8080/",
          "height": 502
        }
      },
      "source": [
        "img = ImageSegmentation(img)\n",
        "plt.imshow(img)"
      ],
      "execution_count": 0,
      "outputs": [
        {
          "output_type": "stream",
          "text": [
            "Clipping input data to the valid range for imshow with RGB data ([0..1] for floats or [0..255] for integers).\n"
          ],
          "name": "stderr"
        },
        {
          "output_type": "execute_result",
          "data": {
            "text/plain": [
              "<matplotlib.image.AxesImage at 0x7fcc637f2dd8>"
            ]
          },
          "metadata": {
            "tags": []
          },
          "execution_count": 21
        },
        {
          "output_type": "display_data",
          "data": {
            "image/png": "[encoded data removed]",
            "text/plain": [
              "<Figure size 720x720 with 1 Axes>"
            ]
          },
          "metadata": {
            "tags": []
          }
        }
      ]
    },
    {
      "cell_type": "code",
      "metadata": {
        "id": "mVecAXFusQvD",
        "colab_type": "code",
        "colab": {}
      },
      "source": [
        ""
      ],
      "execution_count": 0,
      "outputs": []
    }
  ]
}