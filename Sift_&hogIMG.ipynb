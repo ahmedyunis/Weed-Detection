{
  "nbformat": 4,
  "nbformat_minor": 0,
  "metadata": {
    "colab": {
      "name": "Sift &hogIMG.ipynb",
      "provenance": [],
      "collapsed_sections": [],
      "machine_shape": "hm"
    },
    "kernelspec": {
      "name": "python3",
      "display_name": "Python 3"
    },
    "accelerator": "GPU"
  },
  "cells": [
    {
      "cell_type": "code",
      "metadata": {
        "id": "LKooJjH2VPVZ",
        "colab_type": "code",
        "colab": {}
      },
      "source": [
        "import glob\n",
        "import yaml\n",
        "import cv2\n",
        "import numpy as np\n",
        "import os\n",
        "from random import shuffle\n",
        "import tensorflow as tf\n",
        "import matplotlib.pyplot as plt\n",
        "from PIL import Image as im \n",
        "import pandas as pd\n",
        "import seaborn as sns\n",
        "from skimage.transform import rescale, resize\n",
        "from skimage.feature import hog\n",
        "from skimage import data, exposure\n",
        "from skimage.io import imread, imshow\n",
        "from sklearn.metrics import mean_squared_error\n",
        "from sklearn import svm\n",
        "from sklearn.metrics import classification_report,accuracy_score\n",
        "import itertools \n",
        "from skimage.color import rgb2gray\n",
        "from skimage import data, feature"
      ],
      "execution_count": 0,
      "outputs": []
    },
    {
      "cell_type": "code",
      "metadata": {
        "id": "wnlwN8fsJpPR",
        "colab_type": "code",
        "colab": {}
      },
      "source": [
        "def image_path(img_type, img_number):\n",
        "    #image_type: 'images' #original image, 'annotations' #crop-weed label, 'mask' #vegetation segmentation\n",
        "    #image_number: the number on the image name\n",
        "    image_name = img_type[:-1]\n",
        "    if img_number < 10:\n",
        "        path = '/content/'+img_type+'/00'+str(img_number)+'_'+str(image_name)+'.png'\n",
        "    else:\n",
        "        path = '/content/'+img_type+'/0'+str(img_number)+'_'+str(image_name)+'.png'\n",
        "    return path\n",
        "\n",
        "# generating labels for each image\n",
        "def label_generator(number):\n",
        "    annotation = cv2.imread(image_path('annotations', number))\n",
        "    height = annotation.shape[0]\n",
        "    width = annotation.shape[1]\n",
        "   # channel = annotation.shape[2]\n",
        "    labels = np.zeros((height, width, 3))\n",
        "    for i in range(height):\n",
        "        for j in range(width):\n",
        "            if np.all(annotation[i,j,:] == np.array([0,255,0])):\n",
        "                labels[i,j,0] = 1\n",
        "            elif np.all(annotation[i,j,:] == np.array([0,0,255])):\n",
        "                labels[i,j,1] = 1\n",
        "            elif np.all(annotation[i,j,:] == np.array([0,0,0])):\n",
        "                labels[i,j,2] = 1\n",
        "    return labels"
      ],
      "execution_count": 0,
      "outputs": []
    },
    {
      "cell_type": "code",
      "metadata": {
        "id": "FQXIQCM6KCs6",
        "colab_type": "code",
        "outputId": "b61226de-52ba-4700-9a90-3c472e81e1ea",
        "colab": {
          "base_uri": "https://localhost:8080/",
          "height": 286
        }
      },
      "source": [
        "# Load two images\n",
        "img1 = cv2.imread(image_path('images',1))\n",
        "img2 = cv2.imread(image_path('masks',1))\n",
        "\n",
        "# I want to put logo on top-left corner, So I create a ROI\n",
        "rows,cols,channels = img2.shape\n",
        "roi = img1[0:rows, 0:cols ]\n",
        "\n",
        "# Now create a mask of logo and create its inverse mask also\n",
        "img2gray = cv2.cvtColor(img2,cv2.COLOR_BGR2GRAY)\n",
        "ret, mask = cv2.threshold(img2gray, 10, 255, cv2.THRESH_BINARY)\n",
        "mask_inv = cv2.bitwise_not(mask)\n",
        "\n",
        "# Now black-out the area of logo in ROI\n",
        "img1_bg = cv2.bitwise_and(roi,roi,mask = mask_inv)\n",
        "\n",
        "# Take only region of logo from logo image.\n",
        "img2_fg = cv2.bitwise_and(img2,img2,mask = mask)\n",
        "\n",
        "# Put logo in ROI and modify the main image\n",
        "dst = cv2.add(img1_bg,img2_fg)\n",
        "img1[0:rows, 0:cols ] = dst\n",
        "plt.imshow(img1)"
      ],
      "execution_count": 0,
      "outputs": [
        {
          "output_type": "execute_result",
          "data": {
            "text/plain": [
              "<matplotlib.image.AxesImage at 0x7fe965d9c390>"
            ]
          },
          "metadata": {
            "tags": []
          },
          "execution_count": 3
        },
        {
          "output_type": "display_data",
          "data": {
            "image/png": "[encoded data removed]",
            "text/plain": [
              "<Figure size 432x288 with 1 Axes>"
            ]
          },
          "metadata": {
            "tags": []
          }
        }
      ]
    },
    {
      "cell_type": "code",
      "metadata": {
        "id": "zHae139lKW5e",
        "colab_type": "code",
        "outputId": "f8650d3f-6fb9-449e-832f-ec8d42bff269",
        "colab": {
          "base_uri": "https://localhost:8080/",
          "height": 125
        }
      },
      "source": [
        "label = label_generator(1)\n",
        "plt.figure()\n",
        "\n",
        "#plt.imshow(label)\n",
        "for i in range(3):\n",
        "    plt.subplot(1,3,i+1)\n",
        "    plt.imshow(label[:,:,i])"
      ],
      "execution_count": 0,
      "outputs": [
        {
          "output_type": "display_data",
          "data": {
            "image/png": "[encoded data removed]",
            "text/plain": [
              "<Figure size 432x288 with 3 Axes>"
            ]
          },
          "metadata": {
            "tags": []
          }
        }
      ]
    },
    {
      "cell_type": "code",
      "metadata": {
        "id": "yQn-yZvCKY8Q",
        "colab_type": "code",
        "outputId": "e7c7875a-fa83-4149-84a9-81a9e09af6d9",
        "colab": {
          "base_uri": "https://localhost:8080/",
          "height": 303
        }
      },
      "source": [
        "img = imread(image_path('masks',1))\n",
        "mm = resize(img,(512,265))\n",
        "fd, hog_image = hog(mm, orientations=9, pixels_per_cell=(8, 8), cells_per_block=(2, 2), visualize=True, multichannel=None)\n",
        "plt.subplot(1,2,1)\n",
        "plt.imshow(mm)\n",
        "plt.subplot(1,2,2)\n",
        "plt.imshow(hog_image)\n",
        "print(fd.shape)\n",
        "td = fd.ravel()  \n",
        "print(td.shape)"
      ],
      "execution_count": 0,
      "outputs": [
        {
          "output_type": "stream",
          "text": [
            "(72576,)\n",
            "(72576,)\n"
          ],
          "name": "stdout"
        },
        {
          "output_type": "display_data",
          "data": {
            "image/png": "[encoded data removed]",
            "text/plain": [
              "<Figure size 432x288 with 2 Axes>"
            ]
          },
          "metadata": {
            "tags": []
          }
        }
      ]
    },
    {
      "cell_type": "code",
      "metadata": {
        "id": "9Bm8cQ2JKqXm",
        "colab_type": "code",
        "outputId": "93a7dd3c-5ede-4122-e0a1-23a51602b2e7",
        "colab": {
          "base_uri": "https://localhost:8080/",
          "height": 302
        }
      },
      "source": [
        "img = imread(image_path('masks',1))\n",
        "mm = resize(img[640:760,640:760],(128,64))\n",
        "fd, hog_image = hog(mm, orientations=9, pixels_per_cell=(8, 8), cells_per_block=(2, 2), visualize=True, multichannel=None)\n",
        "plt.subplot(1,2,1)\n",
        "plt.imshow(img[640:760,640:760])\n",
        "plt.subplot(1,2,2)\n",
        "plt.imshow(hog_image)\n",
        "print(fd.shape)\n",
        "td = fd.ravel()  \n",
        "print(td.shape)"
      ],
      "execution_count": 0,
      "outputs": [
        {
          "output_type": "stream",
          "text": [
            "(3780,)\n",
            "(3780,)\n"
          ],
          "name": "stdout"
        },
        {
          "output_type": "display_data",
          "data": {
            "image/png": "[encoded data removed]",
            "text/plain": [
              "<Figure size 432x288 with 2 Axes>"
            ]
          },
          "metadata": {
            "tags": []
          }
        }
      ]
    },
    {
      "cell_type": "code",
      "metadata": {
        "id": "5cSvEIvxLRB7",
        "colab_type": "code",
        "outputId": "6762053c-2440-4e66-c1fc-8b2a8a6d9fbf",
        "colab": {
          "base_uri": "https://localhost:8080/",
          "height": 34
        }
      },
      "source": [
        "img = imread(image_path('masks',1))\n",
        "width, height = img.shape[:2]\n",
        "print(width, height )"
      ],
      "execution_count": 0,
      "outputs": [
        {
          "output_type": "stream",
          "text": [
            "966 1296\n"
          ],
          "name": "stdout"
        }
      ]
    },
    {
      "cell_type": "code",
      "metadata": {
        "id": "C8YGNZrkLceh",
        "colab_type": "code",
        "colab": {}
      },
      "source": [
        "levels=[]\n",
        "train_labels=[2, 5, 6, 7, 8, 11, 12, 14, 16, 17, 18, 19, 20, 23, 24, 25, 27, 28, 31, 33, 34, 36, 37, 38, 40, 41, 42, 43, 45, 46, 49, 50, 51, 52, 53, 55, 56, 57, 58, 59]\n",
        "for i in train_labels:\n",
        "  label=label_generator(i)\n",
        "  level=np.sum(label[:,:,1])/(np.sum(label[:,:,1])+np.sum(label[:,:,0]))\n",
        "  levels.append(level)"
      ],
      "execution_count": 0,
      "outputs": []
    },
    {
      "cell_type": "code",
      "metadata": {
        "id": "LMbMgL1UMf1v",
        "colab_type": "code",
        "outputId": "e3b2951a-7274-4e3e-9cc3-9100d9049345",
        "colab": {
          "base_uri": "https://localhost:8080/",
          "height": 187
        }
      },
      "source": [
        "y = np.empty((60,width,height,3))\n",
        "for i in range(1,61):\n",
        "  y[i-1]=cv2.imread(image_path(\"annotations\",i))\n",
        "\n",
        "y/=255\n",
        "\n",
        "Y = np.sum(y,(1,2))[:,-1]/np.sum(y,(1,2,3))\n",
        "print(Y)"
      ],
      "execution_count": 0,
      "outputs": [
        {
          "output_type": "stream",
          "text": [
            "[0.85018318 0.89648562 0.74497219 0.91418    0.78998694 0.59147286\n",
            " 0.78120693 0.86539207 0.73976874 0.8104898  0.69709057 0.81656668\n",
            " 0.70762017 0.90237864 0.73815525 0.87172563 0.67062324 0.80120554\n",
            " 0.66972253 0.24505545 0.29128998 0.59902801 0.91508527 0.96300194\n",
            " 0.57552427 0.95532635 0.62954107 0.85019663 0.98174603 0.46778094\n",
            " 0.8374772  0.76941356 0.8012647  0.94021673 0.39274487 0.91904945\n",
            " 0.34394622 0.88344169 0.63020408 0.89373432 0.70942404 0.74180848\n",
            " 0.60717502 0.55579941 0.73736463 0.8001054  0.76180845 0.77259433\n",
            " 0.22463347 0.         0.79686124 0.72899571 0.77520693 0.67039001\n",
            " 0.52909933 0.84453439 0.98286563 0.82842125 0.89097199 0.80394291]\n"
          ],
          "name": "stdout"
        }
      ]
    },
    {
      "cell_type": "code",
      "metadata": {
        "id": "i-DXcy5VNfLT",
        "colab_type": "code",
        "outputId": "b2303b8e-c704-4475-c08b-86b536b0b6ad",
        "colab": {
          "base_uri": "https://localhost:8080/",
          "height": 71
        }
      },
      "source": [
        "levels=[]\n",
        "for i,level in enumerate(Y):\n",
        "  if level < 0.75 :\n",
        "    levels.append(1)\n",
        "  elif (level>=0.75)&(level<1.0):\n",
        "    levels.append(2)\n",
        "print(levels)\n",
        "print(len(levels))"
      ],
      "execution_count": 0,
      "outputs": [
        {
          "output_type": "stream",
          "text": [
            "[2, 2, 1, 2, 2, 1, 2, 2, 1, 2, 1, 2, 1, 2, 1, 2, 1, 2, 1, 1, 1, 1, 2, 2, 1, 2, 1, 2, 2, 1, 2, 2, 2, 2, 1, 2, 1, 2, 1, 2, 1, 1, 1, 1, 1, 2, 2, 2, 1, 1, 2, 1, 2, 1, 1, 2, 2, 2, 2, 2]\n",
            "60\n"
          ],
          "name": "stdout"
        }
      ]
    },
    {
      "cell_type": "code",
      "metadata": {
        "id": "7WREN-mqRmGh",
        "colab_type": "code",
        "outputId": "2c6e0d88-02fd-4323-e992-e031306d3d83",
        "colab": {
          "base_uri": "https://localhost:8080/",
          "height": 34
        }
      },
      "source": [
        "img_feature_train = []\n",
        "\n",
        "train_data=[2, 5, 6, 7, 8, 11, 12, 14, 16, 17, 18, 19, 20, 23, 24, 25, 27, 28, 31, 33, 34, 36, 37, 38, 40, 41, 42, 43, 45, 46, 49, 50, 51, 52, 53, 55, 56, 57, 58, 59]\n",
        "for i in train_data:\n",
        "  img_mask = imread(image_path('masks',i))\n",
        "  image_resized = resize(img_mask,(512,1024))\n",
        "  descriptor, hog_image = hog(image_resized, orientations=9, pixels_per_cell=(8, 8), \n",
        "                    cells_per_block=(2, 2), block_norm= 'L2', visualize=True, multichannel=None)\n",
        "  img_feature_train.append(descriptor)\n",
        "print(\"younis & menna & Omar\")"
      ],
      "execution_count": 0,
      "outputs": [
        {
          "output_type": "stream",
          "text": [
            "younis & menna & Omar\n"
          ],
          "name": "stdout"
        }
      ]
    },
    {
      "cell_type": "code",
      "metadata": {
        "id": "FqO87NroSs2t",
        "colab_type": "code",
        "colab": {}
      },
      "source": [
        "Y_train = [levels[i-1] for i in train_data]\n"
      ],
      "execution_count": 0,
      "outputs": []
    },
    {
      "cell_type": "code",
      "metadata": {
        "id": "t8K-P9HEToqd",
        "colab_type": "code",
        "outputId": "7cb50bd4-36f5-496c-abd5-7a3316c3b505",
        "colab": {
          "base_uri": "https://localhost:8080/",
          "height": 34
        }
      },
      "source": [
        "img_feature_test = []\n",
        "\n",
        "test_data=[1, 3, 4, 9, 10, 13, 15, 21, 22, 26, 29, 30, 32, 35, 39, 44, 47, 48, 54, 60]\n",
        "for i in test_data:\n",
        "  img_mask = imread(image_path('masks',i))\n",
        "  image_resized = resize(img_mask,(512,1024))\n",
        "  descriptor, hog_image = hog(image_resized, orientations=9, pixels_per_cell=(8, 8), \n",
        "                    cells_per_block=(2, 2), block_norm= 'L2', visualize=True, multichannel=None)\n",
        "  img_feature_test.append(descriptor)\n",
        "print(\"younis & menna & Omar\")"
      ],
      "execution_count": 0,
      "outputs": [
        {
          "output_type": "stream",
          "text": [
            "younis & menna & Omar\n"
          ],
          "name": "stdout"
        }
      ]
    },
    {
      "cell_type": "code",
      "metadata": {
        "id": "jNwX5lniUFve",
        "colab_type": "code",
        "colab": {}
      },
      "source": [
        "Y_test = [levels[i-1] for i in test_data]"
      ],
      "execution_count": 0,
      "outputs": []
    },
    {
      "cell_type": "code",
      "metadata": {
        "id": "802S2N1PXLBQ",
        "colab_type": "code",
        "colab": {}
      },
      "source": [
        "clf = svm.SVC(class_weight='balanced')\n",
        "features_train = np.array(img_feature_train)\n",
        "features_test = np.array(img_feature_test)\n",
        "labels_test = np.array(Y_test)\n",
        "labels_train = np.array(Y_train)"
      ],
      "execution_count": 0,
      "outputs": []
    },
    {
      "cell_type": "code",
      "metadata": {
        "id": "JzFHZiAnXmeg",
        "colab_type": "code",
        "outputId": "697ceda7-bf92-4950-da14-a3991c4e41c3",
        "colab": {
          "base_uri": "https://localhost:8080/",
          "height": 85
        }
      },
      "source": [
        "clf.fit(features_train,labels_train)"
      ],
      "execution_count": 0,
      "outputs": [
        {
          "output_type": "execute_result",
          "data": {
            "text/plain": [
              "SVC(C=1.0, break_ties=False, cache_size=200, class_weight='balanced', coef0=0.0,\n",
              "    decision_function_shape='ovr', degree=3, gamma='scale', kernel='rbf',\n",
              "    max_iter=-1, probability=False, random_state=None, shrinking=True,\n",
              "    tol=0.001, verbose=False)"
            ]
          },
          "metadata": {
            "tags": []
          },
          "execution_count": 43
        }
      ]
    },
    {
      "cell_type": "code",
      "metadata": {
        "id": "xeKIj1t9Xs6R",
        "colab_type": "code",
        "colab": {}
      },
      "source": [
        "labels_pred = clf.predict(features_test)\n"
      ],
      "execution_count": 0,
      "outputs": []
    },
    {
      "cell_type": "code",
      "metadata": {
        "id": "DvNXibtYXuwR",
        "colab_type": "code",
        "outputId": "5970209f-3a1f-4ab7-b5f4-369b2b2c78c6",
        "colab": {
          "base_uri": "https://localhost:8080/",
          "height": 34
        }
      },
      "source": [
        "print('MSE: ' , mean_squared_error(labels_test, labels_pred))"
      ],
      "execution_count": 0,
      "outputs": [
        {
          "output_type": "stream",
          "text": [
            "MSE:  0.45\n"
          ],
          "name": "stdout"
        }
      ]
    },
    {
      "cell_type": "code",
      "metadata": {
        "id": "TWDq28OvX4If",
        "colab_type": "code",
        "outputId": "d36b717b-b021-43df-e091-a2c557ea3468",
        "colab": {
          "base_uri": "https://localhost:8080/",
          "height": 170
        }
      },
      "source": [
        "print(classification_report(labels_test, labels_pred))\n"
      ],
      "execution_count": 0,
      "outputs": [
        {
          "output_type": "stream",
          "text": [
            "              precision    recall  f1-score   support\n",
            "\n",
            "           1       0.62      0.45      0.53        11\n",
            "           2       0.50      0.67      0.57         9\n",
            "\n",
            "    accuracy                           0.55        20\n",
            "   macro avg       0.56      0.56      0.55        20\n",
            "weighted avg       0.57      0.55      0.55        20\n",
            "\n"
          ],
          "name": "stdout"
        }
      ]
    },
    {
      "cell_type": "code",
      "metadata": {
        "id": "jKwEW8ICYRAp",
        "colab_type": "code",
        "outputId": "f2487872-0907-4f6b-e9af-d67de3b08678",
        "colab": {
          "base_uri": "https://localhost:8080/",
          "height": 231
        }
      },
      "source": [
        "blob_feature_train = []\n",
        "\n",
        "train_data=[2, 5, 6, 7, 8, 11, 12, 14, 16, 17, 18, 19, 20, 23, 24, 25, 27, 28, 31, 33, 34, 36, 37, 38, 40, 41, 42, 43, 45, 46, 49, 50, 51, 52, 53, 55, 56, 57, 58, 59]\n",
        "for i in train_data:\n",
        "  #img_mask = imread(image_path('masks',i))\n",
        "  img_mask = cv2.imread(image_path('masks',i))\n",
        "  #img_gary = rgb2gray(img_mask)\n",
        "  gray= cv2.cvtColor(img_mask,cv2.COLOR_BGR2GRAY)\n",
        "  #dst = cv2.cornerHarris(img_gary,3,3,0.04)\n",
        "  #img_gary = cv2.cvtColor(img_mask,cv2.COLOR_BGR2GRAY)\n",
        "  #desc= feature.blob_dog(img_gary, threshold=.5, max_sigma=40)\n",
        "  surf = cv2.SURF()\n",
        "  kps, desc =surf.detectAndCompute(img_mask,None)\n",
        "  blob_feature_train.append(desc.flatten())\n",
        "print(\"younis & menna & Omar\")"
      ],
      "execution_count": 0,
      "outputs": [
        {
          "output_type": "error",
          "ename": "AttributeError",
          "evalue": "ignored",
          "traceback": [
            "\u001b[0;31m---------------------------------------------------------------------------\u001b[0m",
            "\u001b[0;31mAttributeError\u001b[0m                            Traceback (most recent call last)",
            "\u001b[0;32m<ipython-input-91-24a31f0a39f7>\u001b[0m in \u001b[0;36m<module>\u001b[0;34m()\u001b[0m\n\u001b[1;32m     10\u001b[0m   \u001b[0;31m#img_gary = cv2.cvtColor(img_mask,cv2.COLOR_BGR2GRAY)\u001b[0m\u001b[0;34m\u001b[0m\u001b[0;34m\u001b[0m\u001b[0;34m\u001b[0m\u001b[0m\n\u001b[1;32m     11\u001b[0m   \u001b[0;31m#desc= feature.blob_dog(img_gary, threshold=.5, max_sigma=40)\u001b[0m\u001b[0;34m\u001b[0m\u001b[0;34m\u001b[0m\u001b[0;34m\u001b[0m\u001b[0m\n\u001b[0;32m---> 12\u001b[0;31m   \u001b[0msurf\u001b[0m \u001b[0;34m=\u001b[0m \u001b[0mcv2\u001b[0m\u001b[0;34m.\u001b[0m\u001b[0mSURF\u001b[0m\u001b[0;34m(\u001b[0m\u001b[0;34m)\u001b[0m\u001b[0;34m\u001b[0m\u001b[0;34m\u001b[0m\u001b[0m\n\u001b[0m\u001b[1;32m     13\u001b[0m   \u001b[0mkps\u001b[0m\u001b[0;34m,\u001b[0m \u001b[0mdesc\u001b[0m \u001b[0;34m=\u001b[0m\u001b[0msurf\u001b[0m\u001b[0;34m.\u001b[0m\u001b[0mdetectAndCompute\u001b[0m\u001b[0;34m(\u001b[0m\u001b[0mimg_mask\u001b[0m\u001b[0;34m,\u001b[0m\u001b[0;32mNone\u001b[0m\u001b[0;34m)\u001b[0m\u001b[0;34m\u001b[0m\u001b[0;34m\u001b[0m\u001b[0m\n\u001b[1;32m     14\u001b[0m   \u001b[0mblob_feature_train\u001b[0m\u001b[0;34m.\u001b[0m\u001b[0mappend\u001b[0m\u001b[0;34m(\u001b[0m\u001b[0mdesc\u001b[0m\u001b[0;34m.\u001b[0m\u001b[0mflatten\u001b[0m\u001b[0;34m(\u001b[0m\u001b[0;34m)\u001b[0m\u001b[0;34m)\u001b[0m\u001b[0;34m\u001b[0m\u001b[0;34m\u001b[0m\u001b[0m\n",
            "\u001b[0;31mAttributeError\u001b[0m: module 'cv2.cv2' has no attribute 'SURF'"
          ]
        }
      ]
    },
    {
      "cell_type": "code",
      "metadata": {
        "id": "3pVGG042zsZi",
        "colab_type": "code",
        "outputId": "3089fc4f-0e76-4af5-eba4-35e01e1a9e69",
        "colab": {
          "base_uri": "https://localhost:8080/",
          "height": 34
        }
      },
      "source": [
        "\n",
        "cv2.__version__"
      ],
      "execution_count": 0,
      "outputs": [
        {
          "output_type": "execute_result",
          "data": {
            "text/plain": [
              "'4.1.2'"
            ]
          },
          "metadata": {
            "tags": []
          },
          "execution_count": 92
        }
      ]
    },
    {
      "cell_type": "code",
      "metadata": {
        "id": "sOHFduWTkcZP",
        "colab_type": "code",
        "outputId": "7d7711fc-e1f2-41cd-a807-cd21f12ef1c9",
        "colab": {
          "base_uri": "https://localhost:8080/",
          "height": 136
        }
      },
      "source": [
        "dst"
      ],
      "execution_count": 0,
      "outputs": [
        {
          "output_type": "execute_result",
          "data": {
            "text/plain": [
              "array([[0., 0., 0., ..., 0., 0., 0.],\n",
              "       [0., 0., 0., ..., 0., 0., 0.],\n",
              "       [0., 0., 0., ..., 0., 0., 0.],\n",
              "       ...,\n",
              "       [0., 0., 0., ..., 0., 0., 0.],\n",
              "       [0., 0., 0., ..., 0., 0., 0.],\n",
              "       [0., 0., 0., ..., 0., 0., 0.]], dtype=float32)"
            ]
          },
          "metadata": {
            "tags": []
          },
          "execution_count": 76
        }
      ]
    },
    {
      "cell_type": "code",
      "metadata": {
        "id": "nZQBdR5EdY2J",
        "colab_type": "code",
        "outputId": "463983ce-9c31-4e33-fdb2-3b30c2c12bf2",
        "colab": {
          "base_uri": "https://localhost:8080/",
          "height": 34
        }
      },
      "source": [
        "blob_feature_test = []\n",
        "\n",
        "test_data=[1, 3, 4, 9, 10, 13, 15, 21, 22, 26, 29, 30, 32, 35, 39, 44, 47, 48, 54, 60]\n",
        "for i in test_data:\n",
        "  img_mask = imread(image_path('masks',i))\n",
        "  img_gary = rgb2gray(img_mask)\n",
        "  sift = cv2.xfeatures2d.SIFT_create()\n",
        "  kp, desc = sift.detectAndCompute(img_gary,None)\n",
        "  \n",
        "  #desc= feature.blob_dog(img_gary, threshold=.5, max_sigma=40)\n",
        "  #dst = cv2.cornerHarris(img_gary,3,3,0.04)\n",
        "  blob_feature_test.append(desc.flatten())\n",
        "print(\"younis & menna & Omar\")"
      ],
      "execution_count": 0,
      "outputs": [
        {
          "output_type": "stream",
          "text": [
            "younis & menna & Omar\n"
          ],
          "name": "stdout"
        }
      ]
    },
    {
      "cell_type": "code",
      "metadata": {
        "id": "41l1FvNvj-rK",
        "colab_type": "code",
        "colab": {}
      },
      "source": [
        ""
      ],
      "execution_count": 0,
      "outputs": []
    },
    {
      "cell_type": "code",
      "metadata": {
        "id": "NRxJlbCbe2Ug",
        "colab_type": "code",
        "colab": {}
      },
      "source": [
        "clf = svm.SVC(class_weight='balanced')\n",
        "features_train = np.array(blob_feature_train)\n",
        "features_test = np.array(blob_feature_test)\n",
        "labels_test = np.array(Y_test)\n",
        "labels_train = np.array(Y_train)"
      ],
      "execution_count": 0,
      "outputs": []
    },
    {
      "cell_type": "code",
      "metadata": {
        "id": "Bfd9oO13fH68",
        "colab_type": "code",
        "outputId": "d2e2665b-dd6a-46d5-acb2-4ed40337b4e9",
        "colab": {
          "base_uri": "https://localhost:8080/",
          "height": 85
        }
      },
      "source": [
        "clf.fit(blob_feature_train,Y_train)"
      ],
      "execution_count": 0,
      "outputs": [
        {
          "output_type": "execute_result",
          "data": {
            "text/plain": [
              "SVC(C=1.0, break_ties=False, cache_size=200, class_weight='balanced', coef0=0.0,\n",
              "    decision_function_shape='ovr', degree=3, gamma='scale', kernel='rbf',\n",
              "    max_iter=-1, probability=False, random_state=None, shrinking=True,\n",
              "    tol=0.001, verbose=False)"
            ]
          },
          "metadata": {
            "tags": []
          },
          "execution_count": 79
        }
      ]
    },
    {
      "cell_type": "code",
      "metadata": {
        "id": "PKonInKslBcl",
        "colab_type": "code",
        "colab": {}
      },
      "source": [
        "labels_pred = clf.predict(features_test)\n"
      ],
      "execution_count": 0,
      "outputs": []
    },
    {
      "cell_type": "code",
      "metadata": {
        "id": "_mX9mymPlGXA",
        "colab_type": "code",
        "outputId": "a82c5e69-124b-463b-ad7d-ee202f281993",
        "colab": {
          "base_uri": "https://localhost:8080/",
          "height": 34
        }
      },
      "source": [
        "print('MSE: ' , mean_squared_error(labels_test, labels_pred))"
      ],
      "execution_count": 0,
      "outputs": [
        {
          "output_type": "stream",
          "text": [
            "MSE:  0.55\n"
          ],
          "name": "stdout"
        }
      ]
    },
    {
      "cell_type": "code",
      "metadata": {
        "id": "_5xVW-yblPtu",
        "colab_type": "code",
        "outputId": "dbdf6b15-4bae-4cda-a4f9-f7b71ca3bd66",
        "colab": {
          "base_uri": "https://localhost:8080/",
          "height": 224
        }
      },
      "source": [
        "print(classification_report(labels_test, labels_pred))\n"
      ],
      "execution_count": 0,
      "outputs": [
        {
          "output_type": "stream",
          "text": [
            "              precision    recall  f1-score   support\n",
            "\n",
            "           1       0.00      0.00      0.00        11\n",
            "           2       0.45      1.00      0.62         9\n",
            "\n",
            "    accuracy                           0.45        20\n",
            "   macro avg       0.23      0.50      0.31        20\n",
            "weighted avg       0.20      0.45      0.28        20\n",
            "\n"
          ],
          "name": "stdout"
        },
        {
          "output_type": "stream",
          "text": [
            "/usr/local/lib/python3.6/dist-packages/sklearn/metrics/_classification.py:1272: UndefinedMetricWarning: Precision and F-score are ill-defined and being set to 0.0 in labels with no predicted samples. Use `zero_division` parameter to control this behavior.\n",
            "  _warn_prf(average, modifier, msg_start, len(result))\n"
          ],
          "name": "stderr"
        }
      ]
    },
    {
      "cell_type": "code",
      "metadata": {
        "id": "i-TF2pddfyjW",
        "colab_type": "code",
        "colab": {}
      },
      "source": [
        "\n",
        "perc={}\n",
        "globbing = glob.glob(\"annotations /*.png\")\n",
        "for f in globbing:\n",
        "  num = int(f[13:16])\n",
        "  img_ann = im.open(f)\n",
        "  img_ann_arr = np.array(img_ann)\n",
        "  width, height = img_ann_arr.shape[:2]\n",
        "  g_count = 0 \n",
        "  r_count = 0 \n",
        "  for i in range(width):\n",
        "    for j in range(height):\n",
        "      if np.all(img_ann_arr[i][j] == np.array([0, 255, 0])):\n",
        "        g_count+=1\n",
        "      if np.all(img_ann_arr[i][j] == np.array([255, 0, 0])):\n",
        "        r_count+=1\n",
        "  level = r_count/(g_count+r_count)\n",
        "\n",
        "  perc[num]=level    "
      ],
      "execution_count": 0,
      "outputs": []
    },
    {
      "cell_type": "code",
      "metadata": {
        "id": "Id0skSr8sl04",
        "colab_type": "code",
        "outputId": "15b1791f-cdaf-4c80-a726-555f03fa7268",
        "colab": {
          "base_uri": "https://localhost:8080/",
          "height": 1000
        }
      },
      "source": [
        "perc"
      ],
      "execution_count": 0,
      "outputs": [
        {
          "output_type": "execute_result",
          "data": {
            "text/plain": [
              "{1: 0.8501831752997414,\n",
              " 2: 0.896485617856251,\n",
              " 3: 0.7449721865639709,\n",
              " 4: 0.9141800048258667,\n",
              " 5: 0.7899869430390076,\n",
              " 6: 0.5914728597009679,\n",
              " 7: 0.7812069278685372,\n",
              " 8: 0.8653920723825937,\n",
              " 9: 0.7397687425096542,\n",
              " 10: 0.8104898032414329,\n",
              " 11: 0.6970905678085406,\n",
              " 12: 0.8165666820489156,\n",
              " 13: 0.7076201690567308,\n",
              " 14: 0.9023786381058925,\n",
              " 15: 0.7381552461983457,\n",
              " 16: 0.8717256304102371,\n",
              " 17: 0.6706232403378551,\n",
              " 18: 0.8012055430951618,\n",
              " 19: 0.6697225250884493,\n",
              " 20: 0.2450554528650647,\n",
              " 21: 0.29128998293577313,\n",
              " 22: 0.5990280136409449,\n",
              " 23: 0.915085272082019,\n",
              " 24: 0.9630019385211853,\n",
              " 25: 0.5755242731881597,\n",
              " 26: 0.955326345400355,\n",
              " 27: 0.6295410721172388,\n",
              " 28: 0.8501966311290946,\n",
              " 29: 0.9817460317460317,\n",
              " 30: 0.4677809388335704,\n",
              " 31: 0.8374772021136254,\n",
              " 32: 0.7694135596787205,\n",
              " 33: 0.8012647006678092,\n",
              " 34: 0.9402167277167277,\n",
              " 35: 0.3927448660975948,\n",
              " 36: 0.9190494520259426,\n",
              " 37: 0.34394621818907944,\n",
              " 38: 0.8834416942321585,\n",
              " 39: 0.6302040816326531,\n",
              " 40: 0.8937343222096082,\n",
              " 41: 0.709424044227603,\n",
              " 42: 0.7418084812804709,\n",
              " 43: 0.6071750181554103,\n",
              " 44: 0.555799407439921,\n",
              " 45: 0.7373646305115668,\n",
              " 46: 0.8001053983729126,\n",
              " 47: 0.7618084502873492,\n",
              " 48: 0.7725943347990593,\n",
              " 49: 0.22463347040944037,\n",
              " 50: 0.0,\n",
              " 51: 0.7968612383626422,\n",
              " 52: 0.7289957069463017,\n",
              " 53: 0.7752069285097951,\n",
              " 54: 0.670390010263428,\n",
              " 55: 0.5290993273346728,\n",
              " 56: 0.8445343923425488,\n",
              " 57: 0.9828656337548562,\n",
              " 58: 0.8284212502346536,\n",
              " 59: 0.8909719889356653,\n",
              " 60: 0.803942907986558}"
            ]
          },
          "metadata": {
            "tags": []
          },
          "execution_count": 27
        }
      ]
    },
    {
      "cell_type": "code",
      "metadata": {
        "id": "6q0xK1tyjZ6y",
        "colab_type": "code",
        "colab": {}
      },
      "source": [
        "df=pd.DataFrame.from_dict(perc,orient='index')"
      ],
      "execution_count": 0,
      "outputs": []
    },
    {
      "cell_type": "code",
      "metadata": {
        "id": "Up4IgkU_70m3",
        "colab_type": "code",
        "outputId": "73785d5d-46a2-4a05-e535-6cd9526dd181",
        "colab": {
          "base_uri": "https://localhost:8080/",
          "height": 204
        }
      },
      "source": [
        "df.shape\n",
        "df.head()"
      ],
      "execution_count": 0,
      "outputs": [
        {
          "output_type": "execute_result",
          "data": {
            "text/html": [
              "<div>\n",
              "<style scoped>\n",
              "    .dataframe tbody tr th:only-of-type {\n",
              "        vertical-align: middle;\n",
              "    }\n",
              "\n",
              "    .dataframe tbody tr th {\n",
              "        vertical-align: top;\n",
              "    }\n",
              "\n",
              "    .dataframe thead th {\n",
              "        text-align: right;\n",
              "    }\n",
              "</style>\n",
              "<table border=\"1\" class=\"dataframe\">\n",
              "  <thead>\n",
              "    <tr style=\"text-align: right;\">\n",
              "      <th></th>\n",
              "      <th>0</th>\n",
              "      <th>Category_1</th>\n",
              "      <th>Category_2</th>\n",
              "      <th>Category_3</th>\n",
              "      <th>Category_4</th>\n",
              "    </tr>\n",
              "  </thead>\n",
              "  <tbody>\n",
              "    <tr>\n",
              "      <th>54</th>\n",
              "      <td>0.670390</td>\n",
              "      <td>0.0</td>\n",
              "      <td>1.0</td>\n",
              "      <td>0.0</td>\n",
              "      <td>0.0</td>\n",
              "    </tr>\n",
              "    <tr>\n",
              "      <th>36</th>\n",
              "      <td>0.919049</td>\n",
              "      <td>0.0</td>\n",
              "      <td>0.0</td>\n",
              "      <td>0.0</td>\n",
              "      <td>1.0</td>\n",
              "    </tr>\n",
              "    <tr>\n",
              "      <th>40</th>\n",
              "      <td>0.893734</td>\n",
              "      <td>0.0</td>\n",
              "      <td>0.0</td>\n",
              "      <td>0.0</td>\n",
              "      <td>1.0</td>\n",
              "    </tr>\n",
              "    <tr>\n",
              "      <th>9</th>\n",
              "      <td>0.739769</td>\n",
              "      <td>0.0</td>\n",
              "      <td>0.0</td>\n",
              "      <td>1.0</td>\n",
              "      <td>0.0</td>\n",
              "    </tr>\n",
              "    <tr>\n",
              "      <th>38</th>\n",
              "      <td>0.883442</td>\n",
              "      <td>0.0</td>\n",
              "      <td>0.0</td>\n",
              "      <td>0.0</td>\n",
              "      <td>1.0</td>\n",
              "    </tr>\n",
              "  </tbody>\n",
              "</table>\n",
              "</div>"
            ],
            "text/plain": [
              "           0  Category_1  Category_2  Category_3  Category_4\n",
              "54  0.670390         0.0         1.0         0.0         0.0\n",
              "36  0.919049         0.0         0.0         0.0         1.0\n",
              "40  0.893734         0.0         0.0         0.0         1.0\n",
              "9   0.739769         0.0         0.0         1.0         0.0\n",
              "38  0.883442         0.0         0.0         0.0         1.0"
            ]
          },
          "metadata": {
            "tags": []
          },
          "execution_count": 57
        }
      ]
    },
    {
      "cell_type": "code",
      "metadata": {
        "id": "Z7L9mMBlgavj",
        "colab_type": "code",
        "colab": {}
      },
      "source": [
        "df.loc[df[0]<0.4,'Category_1']=1\n"
      ],
      "execution_count": 0,
      "outputs": []
    },
    {
      "cell_type": "code",
      "metadata": {
        "id": "cxy8nl5rn0ng",
        "colab_type": "code",
        "colab": {}
      },
      "source": [
        "df.loc[(df[0]>=0.4)&(df[0]<0.7),'Category_2']=1\n"
      ],
      "execution_count": 0,
      "outputs": []
    },
    {
      "cell_type": "code",
      "metadata": {
        "id": "xV3CEp_4priI",
        "colab_type": "code",
        "colab": {}
      },
      "source": [
        "df=df.fillna(0)"
      ],
      "execution_count": 0,
      "outputs": []
    },
    {
      "cell_type": "code",
      "metadata": {
        "id": "_iwAASY1n0kK",
        "colab_type": "code",
        "colab": {}
      },
      "source": [
        "df.loc[(df[0]>=0.7)&(df[0]<0.85),'Category_3']=1\n",
        "df.loc[df[0]>=0.85,'Category_4']=1"
      ],
      "execution_count": 0,
      "outputs": []
    },
    {
      "cell_type": "code",
      "metadata": {
        "id": "h9jLwtS51oJ-",
        "colab_type": "code",
        "colab": {}
      },
      "source": [
        "img_try = im.open('/content/annotations /001_annotation.png')\n",
        "\n",
        "img_try = np.array(img_try)"
      ],
      "execution_count": 0,
      "outputs": []
    },
    {
      "cell_type": "code",
      "metadata": {
        "id": "LWu3kctz0lf8",
        "colab_type": "code",
        "colab": {}
      },
      "source": [
        "from scipy import misc"
      ],
      "execution_count": 0,
      "outputs": []
    },
    {
      "cell_type": "code",
      "metadata": {
        "id": "5s-kfgU03Qiv",
        "colab_type": "code",
        "colab": {}
      },
      "source": [
        "misc.imread"
      ],
      "execution_count": 0,
      "outputs": []
    },
    {
      "cell_type": "code",
      "metadata": {
        "id": "Dvv-vsxTsyNq",
        "colab_type": "code",
        "outputId": "76a480c5-1689-41fb-b640-203a72e46713",
        "colab": {
          "base_uri": "https://localhost:8080/",
          "height": 180
        }
      },
      "source": [
        "img_try_rav = img_try.ravel()\n",
        "img_try_ff = img_try.flatten().reshape(1,1251936)"
      ],
      "execution_count": 0,
      "outputs": [
        {
          "output_type": "error",
          "ename": "ValueError",
          "evalue": "ignored",
          "traceback": [
            "\u001b[0;31m---------------------------------------------------------------------------\u001b[0m",
            "\u001b[0;31mValueError\u001b[0m                                Traceback (most recent call last)",
            "\u001b[0;32m<ipython-input-69-f99452355bfb>\u001b[0m in \u001b[0;36m<module>\u001b[0;34m()\u001b[0m\n\u001b[1;32m      1\u001b[0m \u001b[0mimg_try_rav\u001b[0m \u001b[0;34m=\u001b[0m \u001b[0mimg_try\u001b[0m\u001b[0;34m.\u001b[0m\u001b[0mravel\u001b[0m\u001b[0;34m(\u001b[0m\u001b[0;34m)\u001b[0m\u001b[0;34m\u001b[0m\u001b[0;34m\u001b[0m\u001b[0m\n\u001b[0;32m----> 2\u001b[0;31m \u001b[0mimg_try_ff\u001b[0m \u001b[0;34m=\u001b[0m \u001b[0mimg_try\u001b[0m\u001b[0;34m.\u001b[0m\u001b[0mflatten\u001b[0m\u001b[0;34m(\u001b[0m\u001b[0;34m)\u001b[0m\u001b[0;34m.\u001b[0m\u001b[0mreshape\u001b[0m\u001b[0;34m(\u001b[0m\u001b[0;36m1\u001b[0m\u001b[0;34m,\u001b[0m\u001b[0;36m1251936\u001b[0m\u001b[0;34m)\u001b[0m\u001b[0;34m\u001b[0m\u001b[0;34m\u001b[0m\u001b[0m\n\u001b[0m",
            "\u001b[0;31mValueError\u001b[0m: cannot reshape array of size 3755808 into shape (1,1251936)"
          ]
        }
      ]
    },
    {
      "cell_type": "code",
      "metadata": {
        "id": "S3eBje2gttr7",
        "colab_type": "code",
        "outputId": "f3c8202a-c600-4986-fc7b-3a989a144747",
        "colab": {
          "base_uri": "https://localhost:8080/",
          "height": 34
        }
      },
      "source": [
        "img_try_rav.shape\n",
        "print(img_try_ff.shape)"
      ],
      "execution_count": 0,
      "outputs": [
        {
          "output_type": "stream",
          "text": [
            "(3755808,)\n"
          ],
          "name": "stdout"
        }
      ]
    },
    {
      "cell_type": "code",
      "metadata": {
        "id": "UN1miNFnfyeQ",
        "colab_type": "code",
        "outputId": "5ff215cd-0ed3-4275-fe8b-d739111bb478",
        "colab": {
          "base_uri": "https://localhost:8080/",
          "height": 51
        }
      },
      "source": [
        "g_count = 0 \n",
        "r_count = 0 \n",
        "for i in range(width):\n",
        "  for j in range(height):\n",
        "    if np.all(img_ann_arr[i][j] == np.array([0, 255, 0])):\n",
        "      g_count+=1\n",
        "    if np.all(img_ann_arr[i][j] == np.array([255, 0, 0])):\n",
        "      r_count+=1\n",
        "print(g_count)\n",
        "print(r_count)"
      ],
      "execution_count": 0,
      "outputs": [
        {
          "output_type": "stream",
          "text": [
            "30589\n",
            "173587\n"
          ],
          "name": "stdout"
        }
      ]
    },
    {
      "cell_type": "code",
      "metadata": {
        "id": "sgyCiYQc2XA1",
        "colab_type": "code",
        "colab": {}
      },
      "source": [
        "for i in perc"
      ],
      "execution_count": 0,
      "outputs": []
    },
    {
      "cell_type": "code",
      "metadata": {
        "id": "AURzPVQckt3I",
        "colab_type": "code",
        "outputId": "214e6a7c-2360-409d-cd51-500193c837c4",
        "colab": {
          "base_uri": "https://localhost:8080/",
          "height": 34
        }
      },
      "source": [
        "level = g_count/(g_count+r_count)\n",
        "print(level)"
      ],
      "execution_count": 0,
      "outputs": [
        {
          "output_type": "stream",
          "text": [
            "0.1498168247002586\n"
          ],
          "name": "stdout"
        }
      ]
    },
    {
      "cell_type": "code",
      "metadata": {
        "id": "ei6U5BI4V4CI",
        "colab_type": "code",
        "colab": {}
      },
      "source": [
        "img_ann = im.open('001_annotation.png')\n",
        "img_mask = im.open(\"001_annotation.png\")"
      ],
      "execution_count": 0,
      "outputs": []
    },
    {
      "cell_type": "code",
      "metadata": {
        "id": "xRIIc62wWhEz",
        "colab_type": "code",
        "outputId": "32978f2b-1c8f-4d61-8917-3464060c0f1d",
        "colab": {
          "base_uri": "https://localhost:8080/",
          "height": 286
        }
      },
      "source": [
        "plt.imshow(img_ann)"
      ],
      "execution_count": 0,
      "outputs": [
        {
          "output_type": "execute_result",
          "data": {
            "text/plain": [
              "<matplotlib.image.AxesImage at 0x7f97f41fbb70>"
            ]
          },
          "metadata": {
            "tags": []
          },
          "execution_count": 7
        },
        {
          "output_type": "display_data",
          "data": {
            "image/png": "[encoded data removed]",
            "text/plain": [
              "<Figure size 432x288 with 1 Axes>"
            ]
          },
          "metadata": {
            "tags": []
          }
        }
      ]
    },
    {
      "cell_type": "code",
      "metadata": {
        "id": "UzbpAoDbWnEL",
        "colab_type": "code",
        "colab": {}
      },
      "source": [
        "img_ann_arr = np.array(img_ann)\n",
        "img_mask_arr = np.array(img_mask)"
      ],
      "execution_count": 0,
      "outputs": []
    },
    {
      "cell_type": "code",
      "metadata": {
        "id": "bmiiP1_SXCIH",
        "colab_type": "code",
        "outputId": "135275f9-7025-4583-d9a3-77a41b1d67dc",
        "colab": {
          "base_uri": "https://localhost:8080/",
          "height": 34
        }
      },
      "source": [
        "img_ann_arr.shape"
      ],
      "execution_count": 0,
      "outputs": [
        {
          "output_type": "execute_result",
          "data": {
            "text/plain": [
              "(966, 1296, 3)"
            ]
          },
          "metadata": {
            "tags": []
          },
          "execution_count": 9
        }
      ]
    },
    {
      "cell_type": "code",
      "metadata": {
        "id": "0FMYOsaWXEN9",
        "colab_type": "code",
        "colab": {}
      },
      "source": [
        "width, height = img_ann_arr.shape[:2]"
      ],
      "execution_count": 0,
      "outputs": []
    },
    {
      "cell_type": "code",
      "metadata": {
        "id": "_B66dpoVXvAY",
        "colab_type": "code",
        "colab": {}
      },
      "source": [
        ""
      ],
      "execution_count": 0,
      "outputs": []
    },
    {
      "cell_type": "code",
      "metadata": {
        "id": "wOuLouYwXQJj",
        "colab_type": "code",
        "colab": {}
      },
      "source": [
        "for i in range (height-80,step= 80):\n",
        "  for j in range (width-80,step=80):\n"
      ],
      "execution_count": 0,
      "outputs": []
    }
  ]
}